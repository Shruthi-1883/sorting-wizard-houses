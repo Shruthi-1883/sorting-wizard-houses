{
  "nbformat": 4,
  "nbformat_minor": 0,
  "metadata": {
    "colab": {
      "provenance": []
    },
    "kernelspec": {
      "name": "python3",
      "display_name": "Python 3"
    },
    "language_info": {
      "name": "python"
    }
  },
  "cells": [
    {
      "cell_type": "code",
      "execution_count": null,
      "metadata": {
        "id": "_kcFTsHNuP9K"
      },
      "outputs": [],
      "source": [
        "import cv2\n",
        "from google.colab.patches import cv2_imshow\n",
        "# Load the input image\n",
        "image = cv2.imread('/content/drive/MyDrive/sample images/imag.jpg')\n",
        "cv2_imshow(image)\n",
        "cv2.waitKey(0)\n",
        "\n",
        "# Use the cvtColor() function to grayscale the image\n",
        "gray_image = cv2.cvtColor(image, cv2.COLOR_BGR2GRAY)\n",
        "\n",
        "cv2_imshow(gray_image)\n",
        "cv2.waitKey(0)\n",
        "\n",
        "# Window shown waits for any key pressing event\n",
        "cv2.destroyAllWindows()"
      ]
    },
    {
      "cell_type": "code",
      "source": [
        "from google.colab import drive\n",
        "drive.mount('/content/drive')"
      ],
      "metadata": {
        "id": "PyasFv4add4c",
        "colab": {
          "base_uri": "https://localhost:8080/"
        },
        "outputId": "bbe0a9da-3c2b-4066-e586-b0571a48e221"
      },
      "execution_count": null,
      "outputs": [
        {
          "output_type": "stream",
          "name": "stdout",
          "text": [
            "Mounted at /content/drive\n"
          ]
        }
      ]
    },
    {
      "cell_type": "code",
      "source": [
        "image_dir = \"/content/drive/MyDrive/sample images\""
      ],
      "metadata": {
        "id": "2fxr9w8cfvNs"
      },
      "execution_count": null,
      "outputs": []
    },
    {
      "cell_type": "code",
      "source": [
        "import os\n",
        "file_list = os.listdir(image_dir)\n"
      ],
      "metadata": {
        "id": "g-iqQyCffy0L"
      },
      "execution_count": null,
      "outputs": []
    },
    {
      "cell_type": "code",
      "source": [],
      "metadata": {
        "id": "OsWmA--CgFUA"
      },
      "execution_count": null,
      "outputs": []
    },
    {
      "cell_type": "code",
      "source": [
        "for filename in file_list:\n",
        "\n",
        "    if filename.lower().endswith((\".jpg\", \".jpeg\", \".png\", \".bmp\")):\n",
        "\n",
        "        image_path = os.path.join(image_dir, filename)\n",
        "        image = cv2.imread(image_path)\n",
        "        gray_image = cv2.cvtColor(image, cv2.COLOR_BGR2GRAY)\n",
        "        cv2_imshow(gray_image)\n",
        "        cv2.waitKey(0)\n",
        "        cv2.destroyAllWindows()\n",
        "\n",
        "\n",
        "\n",
        "\n"
      ],
      "metadata": {
        "id": "n6zA_deOfedp"
      },
      "execution_count": null,
      "outputs": []
    },
    {
      "cell_type": "code",
      "source": [
        "image = cv2.imread(image_path)\n",
        "cv2_imshow(image)"
      ],
      "metadata": {
        "id": "5r_WX41ljpwv"
      },
      "execution_count": null,
      "outputs": []
    },
    {
      "cell_type": "code",
      "source": [
        "def resize(img):\n",
        "\t\timport cv2\n",
        "\t\timport numpy as np\n",
        "\t\timport matplotlib.pyplot as plt\n",
        "\n",
        "\t\t#image = cv2.imread(r\"/content/flower.jpg.crdownload\", 1)\n",
        "\t\t# Loading the image\n",
        "\n",
        "\t\t#half = cv2.resize(image, (0, 0), fx = 0.1, fy = 0.1)\n",
        "\t\t#bigger = cv2.resize(image, (1050, 1610))\n",
        "\n",
        "\t\tstretch_near = cv2.resize(img, (250,200),\n",
        "\t\t\t\t\tinterpolation = cv2.INTER_LINEAR)\n",
        "\t\treturn stretch_near\n"
      ],
      "metadata": {
        "id": "vbPB_zZOvVZy"
      },
      "execution_count": null,
      "outputs": []
    },
    {
      "cell_type": "code",
      "source": [
        "def array(img):\n",
        "    from PIL import Image\n",
        "    from numpy import asarray\n",
        "    numpydata = asarray(img)\n",
        "    print(type(numpydata))\n",
        "    print(numpydata.shape)\n",
        "    return numpydata"
      ],
      "metadata": {
        "id": "s81yj9UX3ndj"
      },
      "execution_count": null,
      "outputs": []
    },
    {
      "cell_type": "code",
      "source": [
        "def length(resize):\n",
        "  len_of_images=len(resize)"
      ],
      "metadata": {
        "id": "nTo5jn6jNOoq"
      },
      "execution_count": null,
      "outputs": []
    },
    {
      "cell_type": "code",
      "source": [
        "def flattening(array):\n",
        "  flaten_array = array.flatten()\n",
        "  return flaten_array\n"
      ],
      "metadata": {
        "id": "SYoLzo-Q3wY8"
      },
      "execution_count": null,
      "outputs": []
    },
    {
      "cell_type": "code",
      "source": [
        "def dstacking(flattening):\n",
        "   import numpy as np\n",
        "   d=np.dstack(flattening)\n",
        "   return d"
      ],
      "metadata": {
        "id": "OiOsoIV_t7H5"
      },
      "execution_count": null,
      "outputs": []
    },
    {
      "cell_type": "code",
      "source": [
        "def rolling(dstacking,flatting,length):\n",
        "  import numpy as np\n",
        "  r=np.rollaxis(dstacking,axis=2,start=0)\n",
        "  #return r\n",
        "  import numpy as np\n",
        "  s=r.reshape(flatting,length)\n",
        "  return s\n"
      ],
      "metadata": {
        "id": "XPcAvuZ92E7N"
      },
      "execution_count": null,
      "outputs": []
    },
    {
      "cell_type": "code",
      "source": [
        "def framing(rolling):\n",
        "  import pandas as pd\n",
        "  df=pd.DataFrame(rolling)\n",
        "  return df"
      ],
      "metadata": {
        "id": "VueJiSg_yLbV"
      },
      "execution_count": null,
      "outputs": []
    },
    {
      "cell_type": "code",
      "source": [
        "for filename in file_list:\n",
        "\n",
        "    if filename.lower().endswith((\".jpg\", \".jpeg\", \".png\", \".bmp\")):\n",
        "\n",
        "        image_path = os.path.join(image_dir, filename)\n",
        "        image = cv2.imread(image_path)\n",
        "        gray_image = cv2.cvtColor(image, cv2.COLOR_BGR2GRAY)\n",
        "        resi = resize(gray_image)\n",
        "        ary = array(resi)\n",
        "        flat=flattening(ary)\n",
        "        print(flat)\n",
        "        stack=dstacking(flat)\n",
        "        print(stack)\n",
        "        roll=rolling(stack,flat,len)\n",
        "        print(roll)\n",
        "        frame=framing(roll)\n",
        "        print(frame)\n"
      ],
      "metadata": {
        "id": "SEdlW5CqnqlZ"
      },
      "execution_count": null,
      "outputs": []
    },
    {
      "cell_type": "code",
      "source": [
        "import os\n",
        "import warnings\n",
        "warnings.simplefilter('ignore')\n",
        "import numpy as np\n",
        "import pandas as pd\n",
        "import matplotlib.pyplot as plt\n",
        "%matplotlib inline\n",
        "from skimage.io import imread, imshow\n",
        "from skimage.transform import resize\n",
        "from skimage.color import rgb2gray\n",
        "import matplotlib.image as mimg"
      ],
      "metadata": {
        "id": "zqU9iJ5z5HfP"
      },
      "execution_count": null,
      "outputs": []
    },
    {
      "cell_type": "code",
      "source": [
        "c0=os.listdir(\"/content/drive/MyDrive/Sorting hat/gryffindor\")\n",
        "c1=os.listdir(\"/content/drive/MyDrive/Sorting hat/slytherin\")"
      ],
      "metadata": {
        "id": "nu5zPV4GmPqv"
      },
      "execution_count": null,
      "outputs": []
    },
    {
      "cell_type": "code",
      "source": [
        "c0"
      ],
      "metadata": {
        "id": "LcYlGI1m5QYO",
        "colab": {
          "base_uri": "https://localhost:8080/"
        },
        "outputId": "ef810fba-a219-423f-ad78-2e89488bba3f"
      },
      "execution_count": null,
      "outputs": [
        {
          "output_type": "execute_result",
          "data": {
            "text/plain": [
              "['download.jpg', 'images.jpg', 'images1.jpg', 'images2.jpg', 'images4.jpg']"
            ]
          },
          "metadata": {},
          "execution_count": 4
        }
      ]
    },
    {
      "cell_type": "code",
      "source": [
        "c0_images=[None]*len(c0)\n",
        "j=0\n",
        "for i in c0:\n",
        " if(j<len(c0)):\n",
        "  c0_images[j]=imread(\"/content/drive/MyDrive/Sorting hat/gryffindor/\"+i)\n",
        "  j+=1\n",
        " else:\n",
        "  break\n",
        "\"\"\"\n",
        "c0_im = []\n",
        "for i in range(len(c0)):\n",
        "  n = imread(\"/content/drive/MyDrive/Sorting hat/gryffindor/\"+c0[i])\n",
        "  c0_im.append(n)\n",
        "\"\"\""
      ],
      "metadata": {
        "colab": {
          "base_uri": "https://localhost:8080/",
          "height": 36
        },
        "id": "suDvvsKu45Uo",
        "outputId": "90e9b3c3-7d07-4c3b-a82a-d6b705a2774d"
      },
      "execution_count": null,
      "outputs": [
        {
          "output_type": "execute_result",
          "data": {
            "text/plain": [
              "'\\nc0_im = []\\nfor i in range(len(c0)):\\n  n = imread(\"/content/drive/MyDrive/Sorting hat/gryffindor/\"+c0[i])\\n  c0_im.append(n)\\n'"
            ],
            "application/vnd.google.colaboratory.intrinsic+json": {
              "type": "string"
            }
          },
          "metadata": {},
          "execution_count": 5
        }
      ]
    },
    {
      "cell_type": "code",
      "source": [
        "c1_images=[None]*len(c1)\n",
        "j=0\n",
        "for i in c1:\n",
        " if(j<len(c1)):\n",
        "  c1_images[j]=imread(\"/content/drive/MyDrive/Sorting hat/slytherin/\"+i)\n",
        "  j+=1\n",
        " else:\n",
        "  break"
      ],
      "metadata": {
        "id": "vYlLhleT464O"
      },
      "execution_count": null,
      "outputs": []
    },
    {
      "cell_type": "code",
      "source": [
        "c0_gray=[None]*len(c0)\n",
        "j=0\n",
        "for i in c0:\n",
        " if(j<len(c0)):\n",
        "  c0_gray[j]=rgb2gray(c0_images[j])\n",
        "  j+=1\n",
        " else:\n",
        "  break"
      ],
      "metadata": {
        "id": "3CLPxbuT9lBD"
      },
      "execution_count": null,
      "outputs": []
    },
    {
      "cell_type": "code",
      "source": [
        "c0_gray=[None]*len(c1)\n",
        "j=0\n",
        "for i in c0:\n",
        " if(j<len(c1)):\n",
        "  c0_gray[j]=rgb2gray(c0_images[j])\n",
        "  j+=1\n",
        " else:\n",
        "  break"
      ],
      "metadata": {
        "id": "WoZiY2iN7qSU"
      },
      "execution_count": null,
      "outputs": []
    },
    {
      "cell_type": "code",
      "source": [
        "c0_gray"
      ],
      "metadata": {
        "id": "N7MSvIrF9P-8",
        "colab": {
          "base_uri": "https://localhost:8080/"
        },
        "outputId": "e03e5aba-e2a1-440a-8ebf-a8a9fed0bb66"
      },
      "execution_count": null,
      "outputs": [
        {
          "output_type": "execute_result",
          "data": {
            "text/plain": [
              "[array([[0.26132275, 0.26132275, 0.26132275, ..., 0.2826051 , 0.2826051 ,\n",
              "         0.2826051 ],\n",
              "        [0.26132275, 0.26132275, 0.26524431, ..., 0.2826051 , 0.2826051 ,\n",
              "         0.2826051 ],\n",
              "        [0.26524431, 0.26524431, 0.26524431, ..., 0.28652667, 0.28652667,\n",
              "         0.28652667],\n",
              "        ...,\n",
              "        [0.83069412, 0.8581451 , 0.82033608, ..., 0.79519176, 0.79633059,\n",
              "         0.79633059],\n",
              "        [0.66598824, 0.63069412, 0.69484588, ..., 0.79519176, 0.79633059,\n",
              "         0.79633059],\n",
              "        [0.63069412, 0.70128235, 0.67915961, ..., 0.79519176, 0.79633059,\n",
              "         0.79633059]]),\n",
              " array([[0.22300667, 0.22300667, 0.22300667, ..., 0.21124196, 0.21124196,\n",
              "         0.21124196],\n",
              "        [0.22300667, 0.22300667, 0.22300667, ..., 0.21124196, 0.21124196,\n",
              "         0.21124196],\n",
              "        [0.22300667, 0.22300667, 0.22300667, ..., 0.21124196, 0.21124196,\n",
              "         0.21124196],\n",
              "        ...,\n",
              "        [0.07899686, 0.09076157, 0.11036941, ..., 0.09019608, 0.10196078,\n",
              "         0.07843137],\n",
              "        [0.07899686, 0.09076157, 0.11036941, ..., 0.09019608, 0.10196078,\n",
              "         0.07843137],\n",
              "        [0.07899686, 0.09076157, 0.11036941, ..., 0.09019608, 0.09803922,\n",
              "         0.0745098 ]]),\n",
              " array([[0.15096902, 0.15096902, 0.15096902, ..., 0.1663498 , 0.1663498 ,\n",
              "         0.1663498 ],\n",
              "        [0.15096902, 0.15096902, 0.15096902, ..., 0.1663498 , 0.1663498 ,\n",
              "         0.1663498 ],\n",
              "        [0.15096902, 0.15096902, 0.15096902, ..., 0.1663498 , 0.1663498 ,\n",
              "         0.1663498 ],\n",
              "        ...,\n",
              "        [0.10531686, 0.10531686, 0.10139529, ..., 0.0843251 , 0.0843251 ,\n",
              "         0.10980392],\n",
              "        [0.10139529, 0.10139529, 0.09747373, ..., 0.0843251 , 0.0843251 ,\n",
              "         0.10196078],\n",
              "        [0.11316   , 0.08963059, 0.10139529, ..., 0.08235294, 0.07058824,\n",
              "         0.06666667]]),\n",
              " array([[0.26918157, 0.26918157, 0.26918157, ..., 0.27507529, 0.27507529,\n",
              "         0.27899686],\n",
              "        [0.27310314, 0.27310314, 0.27310314, ..., 0.27899686, 0.27899686,\n",
              "         0.27899686],\n",
              "        [0.27310314, 0.27310314, 0.27310314, ..., 0.28291843, 0.28291843,\n",
              "         0.27899686],\n",
              "        ...,\n",
              "        [0.50814431, 0.49861961, 0.44371765, ..., 0.0843251 , 0.11569765,\n",
              "         0.23334471],\n",
              "        [0.50422275, 0.51038431, 0.46332549, ..., 0.06863882, 0.09216824,\n",
              "         0.1470702 ],\n",
              "        [0.50422275, 0.52607059, 0.49077647, ..., 0.04510941, 0.05295255,\n",
              "         0.11569765]]),\n",
              " array([[0.24008667, 0.2361651 , 0.22832196, ..., 0.24766196, 0.23981882,\n",
              "         0.23589725],\n",
              "        [0.24008667, 0.2361651 , 0.23224353, ..., 0.23981882, 0.23589725,\n",
              "         0.23197569],\n",
              "        [0.24008667, 0.24008667, 0.2361651 , ..., 0.23981882, 0.23197569,\n",
              "         0.22805412],\n",
              "        ...,\n",
              "        [0.31770745, 0.32947216, 0.34515843, ..., 0.08544824, 0.07368353,\n",
              "         0.06584039],\n",
              "        [0.31770745, 0.32947216, 0.33731529, ..., 0.08544824, 0.06976196,\n",
              "         0.06584039],\n",
              "        [0.31770745, 0.32947216, 0.33731529, ..., 0.08544824, 0.06976196,\n",
              "         0.06584039]])]"
            ]
          },
          "metadata": {},
          "execution_count": 9
        }
      ]
    },
    {
      "cell_type": "code",
      "source": [
        "c1_gray=[None]*len(c1)\n",
        "j=0\n",
        "for i in c1:\n",
        " if(j<len(c1)):\n",
        "  c1_gray[j]=rgb2gray(c1_images[j])\n",
        "  j+=1\n",
        " else:\n",
        "  break"
      ],
      "metadata": {
        "id": "k5Tdn-Y-9AWT"
      },
      "execution_count": null,
      "outputs": []
    },
    {
      "cell_type": "code",
      "source": [
        "for j in range (len(c0)):\n",
        " _c0=c0_gray[j]\n",
        " c0_gray[j]=resize(_c0,(240,240))\n",
        "for j in range (len(c1)):\n",
        " _c1=c1_gray[j]\n",
        " c1_gray[j]=resize(_c1,(240,240))"
      ],
      "metadata": {
        "id": "ed2cJsbW_iTx"
      },
      "execution_count": null,
      "outputs": []
    },
    {
      "cell_type": "code",
      "source": [
        "for i in range(len(c0)):\n",
        " c0_gray[i]=np.ndarray.flatten(c0_gray[i]).reshape(57600,1)\n",
        "for i in range(len(c1)):\n",
        " c1_gray[i]=np.ndarray.flatten(c1_gray[i]).reshape(57600,1)"
      ],
      "metadata": {
        "id": "DMJV0XcFAQea"
      },
      "execution_count": null,
      "outputs": []
    },
    {
      "cell_type": "code",
      "source": [
        "len(c0_gray)"
      ],
      "metadata": {
        "id": "qm5hZ32UBauf",
        "colab": {
          "base_uri": "https://localhost:8080/"
        },
        "outputId": "02f22ca6-4e68-4536-ccbe-d4fbfb55c4f5"
      },
      "execution_count": null,
      "outputs": [
        {
          "output_type": "execute_result",
          "data": {
            "text/plain": [
              "5"
            ]
          },
          "metadata": {},
          "execution_count": 13
        }
      ]
    },
    {
      "cell_type": "code",
      "source": [
        "c0_gray[0].shape"
      ],
      "metadata": {
        "id": "O4p9XKQDCyg2",
        "colab": {
          "base_uri": "https://localhost:8080/"
        },
        "outputId": "ac06b96b-ade9-44fd-bfb7-808a45c68b09"
      },
      "execution_count": null,
      "outputs": [
        {
          "output_type": "execute_result",
          "data": {
            "text/plain": [
              "(57600, 1)"
            ]
          },
          "metadata": {},
          "execution_count": 14
        }
      ]
    },
    {
      "cell_type": "code",
      "source": [
        "c0_gray=np.dstack(c0_gray)\n",
        "c1_gray=np.dstack(c1_gray)"
      ],
      "metadata": {
        "id": "9yPsZR0eA_vA"
      },
      "execution_count": null,
      "outputs": []
    },
    {
      "cell_type": "code",
      "source": [
        "c0_gray[0].shape"
      ],
      "metadata": {
        "id": "utgPZ-suC4NG",
        "colab": {
          "base_uri": "https://localhost:8080/"
        },
        "outputId": "f656961f-44cc-4e38-c439-c3c795f62126"
      },
      "execution_count": null,
      "outputs": [
        {
          "output_type": "execute_result",
          "data": {
            "text/plain": [
              "(1, 5)"
            ]
          },
          "metadata": {},
          "execution_count": 16
        }
      ]
    },
    {
      "cell_type": "code",
      "source": [
        "len(c0_gray)"
      ],
      "metadata": {
        "id": "YeFBsbOPBeGo"
      },
      "execution_count": null,
      "outputs": []
    },
    {
      "cell_type": "code",
      "source": [
        "c0_gray=np.rollaxis(c0_gray,axis=2,start=0)\n",
        "c1_gray=np.rollaxis(c1_gray,axis=2,start=0)"
      ],
      "metadata": {
        "id": "KckjHY0xDF42"
      },
      "execution_count": null,
      "outputs": []
    },
    {
      "cell_type": "code",
      "source": [
        "c0_gray=c0_gray.reshape(5,57600)\n",
        "c1_gray=c1_gray.reshape(5,57600)"
      ],
      "metadata": {
        "id": "yzf8A42PEOSk"
      },
      "execution_count": null,
      "outputs": []
    },
    {
      "cell_type": "code",
      "source": [
        "c0_data=pd.DataFrame(c0_gray)\n",
        "c1_data=pd.DataFrame(c1_gray)"
      ],
      "metadata": {
        "id": "vuEkAoyXEc_e"
      },
      "execution_count": null,
      "outputs": []
    },
    {
      "cell_type": "code",
      "source": [
        "c0_data"
      ],
      "metadata": {
        "id": "QezdZo3WEd5T",
        "colab": {
          "base_uri": "https://localhost:8080/",
          "height": 255
        },
        "outputId": "8bdc206e-a8d5-437e-9af2-c0db2bd5aa49"
      },
      "execution_count": null,
      "outputs": [
        {
          "output_type": "execute_result",
          "data": {
            "text/plain": [
              "      0         1         2         3         4         5         6      \\\n",
              "0  0.261323  0.261543  0.263994  0.265759  0.269166  0.269386  0.269754   \n",
              "1  0.223007  0.223007  0.223007  0.223007  0.223007  0.223007  0.223007   \n",
              "2  0.150969  0.150969  0.150969  0.150969  0.150969  0.150969  0.150969   \n",
              "3  0.269271  0.269271  0.269271  0.269271  0.269271  0.269271  0.269271   \n",
              "4  0.236879  0.229610  0.235432  0.230632  0.224746  0.233389  0.230409   \n",
              "\n",
              "      7         8         9      ...     57590     57591     57592     57593  \\\n",
              "0  0.269754  0.269754  0.269754  ...  0.783193  0.781256  0.786626  0.791014   \n",
              "1  0.223007  0.223007  0.222304  ...  0.064559  0.083938  0.080392  0.061781   \n",
              "2  0.150969  0.152807  0.154891  ...  0.098691  0.089775  0.082652  0.092506   \n",
              "3  0.269271  0.269271  0.269271  ...  0.188639  0.274876  0.209817  0.098295   \n",
              "4  0.230887  0.232222  0.233949  ...  0.016432  0.019860  0.019975  0.020824   \n",
              "\n",
              "      57594     57595     57596     57597     57598     57599  \n",
              "0  0.795916  0.797172  0.799814  0.795192  0.795904  0.796331  \n",
              "1  0.060523  0.085882  0.090196  0.094029  0.091430  0.076920  \n",
              "2  0.093218  0.065438  0.088351  0.080634  0.070713  0.067871  \n",
              "3  0.082099  0.063101  0.050490  0.048981  0.069102  0.111333  \n",
              "4  0.026438  0.034675  0.044724  0.095624  0.087495  0.071886  \n",
              "\n",
              "[5 rows x 57600 columns]"
            ],
            "text/html": [
              "\n",
              "  <div id=\"df-be26ae2e-7911-465a-b924-8f22f0fc8144\" class=\"colab-df-container\">\n",
              "    <div>\n",
              "<style scoped>\n",
              "    .dataframe tbody tr th:only-of-type {\n",
              "        vertical-align: middle;\n",
              "    }\n",
              "\n",
              "    .dataframe tbody tr th {\n",
              "        vertical-align: top;\n",
              "    }\n",
              "\n",
              "    .dataframe thead th {\n",
              "        text-align: right;\n",
              "    }\n",
              "</style>\n",
              "<table border=\"1\" class=\"dataframe\">\n",
              "  <thead>\n",
              "    <tr style=\"text-align: right;\">\n",
              "      <th></th>\n",
              "      <th>0</th>\n",
              "      <th>1</th>\n",
              "      <th>2</th>\n",
              "      <th>3</th>\n",
              "      <th>4</th>\n",
              "      <th>5</th>\n",
              "      <th>6</th>\n",
              "      <th>7</th>\n",
              "      <th>8</th>\n",
              "      <th>9</th>\n",
              "      <th>...</th>\n",
              "      <th>57590</th>\n",
              "      <th>57591</th>\n",
              "      <th>57592</th>\n",
              "      <th>57593</th>\n",
              "      <th>57594</th>\n",
              "      <th>57595</th>\n",
              "      <th>57596</th>\n",
              "      <th>57597</th>\n",
              "      <th>57598</th>\n",
              "      <th>57599</th>\n",
              "    </tr>\n",
              "  </thead>\n",
              "  <tbody>\n",
              "    <tr>\n",
              "      <th>0</th>\n",
              "      <td>0.261323</td>\n",
              "      <td>0.261543</td>\n",
              "      <td>0.263994</td>\n",
              "      <td>0.265759</td>\n",
              "      <td>0.269166</td>\n",
              "      <td>0.269386</td>\n",
              "      <td>0.269754</td>\n",
              "      <td>0.269754</td>\n",
              "      <td>0.269754</td>\n",
              "      <td>0.269754</td>\n",
              "      <td>...</td>\n",
              "      <td>0.783193</td>\n",
              "      <td>0.781256</td>\n",
              "      <td>0.786626</td>\n",
              "      <td>0.791014</td>\n",
              "      <td>0.795916</td>\n",
              "      <td>0.797172</td>\n",
              "      <td>0.799814</td>\n",
              "      <td>0.795192</td>\n",
              "      <td>0.795904</td>\n",
              "      <td>0.796331</td>\n",
              "    </tr>\n",
              "    <tr>\n",
              "      <th>1</th>\n",
              "      <td>0.223007</td>\n",
              "      <td>0.223007</td>\n",
              "      <td>0.223007</td>\n",
              "      <td>0.223007</td>\n",
              "      <td>0.223007</td>\n",
              "      <td>0.223007</td>\n",
              "      <td>0.223007</td>\n",
              "      <td>0.223007</td>\n",
              "      <td>0.223007</td>\n",
              "      <td>0.222304</td>\n",
              "      <td>...</td>\n",
              "      <td>0.064559</td>\n",
              "      <td>0.083938</td>\n",
              "      <td>0.080392</td>\n",
              "      <td>0.061781</td>\n",
              "      <td>0.060523</td>\n",
              "      <td>0.085882</td>\n",
              "      <td>0.090196</td>\n",
              "      <td>0.094029</td>\n",
              "      <td>0.091430</td>\n",
              "      <td>0.076920</td>\n",
              "    </tr>\n",
              "    <tr>\n",
              "      <th>2</th>\n",
              "      <td>0.150969</td>\n",
              "      <td>0.150969</td>\n",
              "      <td>0.150969</td>\n",
              "      <td>0.150969</td>\n",
              "      <td>0.150969</td>\n",
              "      <td>0.150969</td>\n",
              "      <td>0.150969</td>\n",
              "      <td>0.150969</td>\n",
              "      <td>0.152807</td>\n",
              "      <td>0.154891</td>\n",
              "      <td>...</td>\n",
              "      <td>0.098691</td>\n",
              "      <td>0.089775</td>\n",
              "      <td>0.082652</td>\n",
              "      <td>0.092506</td>\n",
              "      <td>0.093218</td>\n",
              "      <td>0.065438</td>\n",
              "      <td>0.088351</td>\n",
              "      <td>0.080634</td>\n",
              "      <td>0.070713</td>\n",
              "      <td>0.067871</td>\n",
              "    </tr>\n",
              "    <tr>\n",
              "      <th>3</th>\n",
              "      <td>0.269271</td>\n",
              "      <td>0.269271</td>\n",
              "      <td>0.269271</td>\n",
              "      <td>0.269271</td>\n",
              "      <td>0.269271</td>\n",
              "      <td>0.269271</td>\n",
              "      <td>0.269271</td>\n",
              "      <td>0.269271</td>\n",
              "      <td>0.269271</td>\n",
              "      <td>0.269271</td>\n",
              "      <td>...</td>\n",
              "      <td>0.188639</td>\n",
              "      <td>0.274876</td>\n",
              "      <td>0.209817</td>\n",
              "      <td>0.098295</td>\n",
              "      <td>0.082099</td>\n",
              "      <td>0.063101</td>\n",
              "      <td>0.050490</td>\n",
              "      <td>0.048981</td>\n",
              "      <td>0.069102</td>\n",
              "      <td>0.111333</td>\n",
              "    </tr>\n",
              "    <tr>\n",
              "      <th>4</th>\n",
              "      <td>0.236879</td>\n",
              "      <td>0.229610</td>\n",
              "      <td>0.235432</td>\n",
              "      <td>0.230632</td>\n",
              "      <td>0.224746</td>\n",
              "      <td>0.233389</td>\n",
              "      <td>0.230409</td>\n",
              "      <td>0.230887</td>\n",
              "      <td>0.232222</td>\n",
              "      <td>0.233949</td>\n",
              "      <td>...</td>\n",
              "      <td>0.016432</td>\n",
              "      <td>0.019860</td>\n",
              "      <td>0.019975</td>\n",
              "      <td>0.020824</td>\n",
              "      <td>0.026438</td>\n",
              "      <td>0.034675</td>\n",
              "      <td>0.044724</td>\n",
              "      <td>0.095624</td>\n",
              "      <td>0.087495</td>\n",
              "      <td>0.071886</td>\n",
              "    </tr>\n",
              "  </tbody>\n",
              "</table>\n",
              "<p>5 rows × 57600 columns</p>\n",
              "</div>\n",
              "    <div class=\"colab-df-buttons\">\n",
              "\n",
              "  <div class=\"colab-df-container\">\n",
              "    <button class=\"colab-df-convert\" onclick=\"convertToInteractive('df-be26ae2e-7911-465a-b924-8f22f0fc8144')\"\n",
              "            title=\"Convert this dataframe to an interactive table.\"\n",
              "            style=\"display:none;\">\n",
              "\n",
              "  <svg xmlns=\"http://www.w3.org/2000/svg\" height=\"24px\" viewBox=\"0 -960 960 960\">\n",
              "    <path d=\"M120-120v-720h720v720H120Zm60-500h600v-160H180v160Zm220 220h160v-160H400v160Zm0 220h160v-160H400v160ZM180-400h160v-160H180v160Zm440 0h160v-160H620v160ZM180-180h160v-160H180v160Zm440 0h160v-160H620v160Z\"/>\n",
              "  </svg>\n",
              "    </button>\n",
              "\n",
              "  <style>\n",
              "    .colab-df-container {\n",
              "      display:flex;\n",
              "      gap: 12px;\n",
              "    }\n",
              "\n",
              "    .colab-df-convert {\n",
              "      background-color: #E8F0FE;\n",
              "      border: none;\n",
              "      border-radius: 50%;\n",
              "      cursor: pointer;\n",
              "      display: none;\n",
              "      fill: #1967D2;\n",
              "      height: 32px;\n",
              "      padding: 0 0 0 0;\n",
              "      width: 32px;\n",
              "    }\n",
              "\n",
              "    .colab-df-convert:hover {\n",
              "      background-color: #E2EBFA;\n",
              "      box-shadow: 0px 1px 2px rgba(60, 64, 67, 0.3), 0px 1px 3px 1px rgba(60, 64, 67, 0.15);\n",
              "      fill: #174EA6;\n",
              "    }\n",
              "\n",
              "    .colab-df-buttons div {\n",
              "      margin-bottom: 4px;\n",
              "    }\n",
              "\n",
              "    [theme=dark] .colab-df-convert {\n",
              "      background-color: #3B4455;\n",
              "      fill: #D2E3FC;\n",
              "    }\n",
              "\n",
              "    [theme=dark] .colab-df-convert:hover {\n",
              "      background-color: #434B5C;\n",
              "      box-shadow: 0px 1px 3px 1px rgba(0, 0, 0, 0.15);\n",
              "      filter: drop-shadow(0px 1px 2px rgba(0, 0, 0, 0.3));\n",
              "      fill: #FFFFFF;\n",
              "    }\n",
              "  </style>\n",
              "\n",
              "    <script>\n",
              "      const buttonEl =\n",
              "        document.querySelector('#df-be26ae2e-7911-465a-b924-8f22f0fc8144 button.colab-df-convert');\n",
              "      buttonEl.style.display =\n",
              "        google.colab.kernel.accessAllowed ? 'block' : 'none';\n",
              "\n",
              "      async function convertToInteractive(key) {\n",
              "        const element = document.querySelector('#df-be26ae2e-7911-465a-b924-8f22f0fc8144');\n",
              "        const dataTable =\n",
              "          await google.colab.kernel.invokeFunction('convertToInteractive',\n",
              "                                                    [key], {});\n",
              "        if (!dataTable) return;\n",
              "\n",
              "        const docLinkHtml = 'Like what you see? Visit the ' +\n",
              "          '<a target=\"_blank\" href=https://colab.research.google.com/notebooks/data_table.ipynb>data table notebook</a>'\n",
              "          + ' to learn more about interactive tables.';\n",
              "        element.innerHTML = '';\n",
              "        dataTable['output_type'] = 'display_data';\n",
              "        await google.colab.output.renderOutput(dataTable, element);\n",
              "        const docLink = document.createElement('div');\n",
              "        docLink.innerHTML = docLinkHtml;\n",
              "        element.appendChild(docLink);\n",
              "      }\n",
              "    </script>\n",
              "  </div>\n",
              "\n",
              "\n",
              "<div id=\"df-e08c3a64-7203-4b73-ab4f-a4517ef1927b\">\n",
              "  <button class=\"colab-df-quickchart\" onclick=\"quickchart('df-e08c3a64-7203-4b73-ab4f-a4517ef1927b')\"\n",
              "            title=\"Suggest charts.\"\n",
              "            style=\"display:none;\">\n",
              "\n",
              "<svg xmlns=\"http://www.w3.org/2000/svg\" height=\"24px\"viewBox=\"0 0 24 24\"\n",
              "     width=\"24px\">\n",
              "    <g>\n",
              "        <path d=\"M19 3H5c-1.1 0-2 .9-2 2v14c0 1.1.9 2 2 2h14c1.1 0 2-.9 2-2V5c0-1.1-.9-2-2-2zM9 17H7v-7h2v7zm4 0h-2V7h2v10zm4 0h-2v-4h2v4z\"/>\n",
              "    </g>\n",
              "</svg>\n",
              "  </button>\n",
              "\n",
              "<style>\n",
              "  .colab-df-quickchart {\n",
              "      --bg-color: #E8F0FE;\n",
              "      --fill-color: #1967D2;\n",
              "      --hover-bg-color: #E2EBFA;\n",
              "      --hover-fill-color: #174EA6;\n",
              "      --disabled-fill-color: #AAA;\n",
              "      --disabled-bg-color: #DDD;\n",
              "  }\n",
              "\n",
              "  [theme=dark] .colab-df-quickchart {\n",
              "      --bg-color: #3B4455;\n",
              "      --fill-color: #D2E3FC;\n",
              "      --hover-bg-color: #434B5C;\n",
              "      --hover-fill-color: #FFFFFF;\n",
              "      --disabled-bg-color: #3B4455;\n",
              "      --disabled-fill-color: #666;\n",
              "  }\n",
              "\n",
              "  .colab-df-quickchart {\n",
              "    background-color: var(--bg-color);\n",
              "    border: none;\n",
              "    border-radius: 50%;\n",
              "    cursor: pointer;\n",
              "    display: none;\n",
              "    fill: var(--fill-color);\n",
              "    height: 32px;\n",
              "    padding: 0;\n",
              "    width: 32px;\n",
              "  }\n",
              "\n",
              "  .colab-df-quickchart:hover {\n",
              "    background-color: var(--hover-bg-color);\n",
              "    box-shadow: 0 1px 2px rgba(60, 64, 67, 0.3), 0 1px 3px 1px rgba(60, 64, 67, 0.15);\n",
              "    fill: var(--button-hover-fill-color);\n",
              "  }\n",
              "\n",
              "  .colab-df-quickchart-complete:disabled,\n",
              "  .colab-df-quickchart-complete:disabled:hover {\n",
              "    background-color: var(--disabled-bg-color);\n",
              "    fill: var(--disabled-fill-color);\n",
              "    box-shadow: none;\n",
              "  }\n",
              "\n",
              "  .colab-df-spinner {\n",
              "    border: 2px solid var(--fill-color);\n",
              "    border-color: transparent;\n",
              "    border-bottom-color: var(--fill-color);\n",
              "    animation:\n",
              "      spin 1s steps(1) infinite;\n",
              "  }\n",
              "\n",
              "  @keyframes spin {\n",
              "    0% {\n",
              "      border-color: transparent;\n",
              "      border-bottom-color: var(--fill-color);\n",
              "      border-left-color: var(--fill-color);\n",
              "    }\n",
              "    20% {\n",
              "      border-color: transparent;\n",
              "      border-left-color: var(--fill-color);\n",
              "      border-top-color: var(--fill-color);\n",
              "    }\n",
              "    30% {\n",
              "      border-color: transparent;\n",
              "      border-left-color: var(--fill-color);\n",
              "      border-top-color: var(--fill-color);\n",
              "      border-right-color: var(--fill-color);\n",
              "    }\n",
              "    40% {\n",
              "      border-color: transparent;\n",
              "      border-right-color: var(--fill-color);\n",
              "      border-top-color: var(--fill-color);\n",
              "    }\n",
              "    60% {\n",
              "      border-color: transparent;\n",
              "      border-right-color: var(--fill-color);\n",
              "    }\n",
              "    80% {\n",
              "      border-color: transparent;\n",
              "      border-right-color: var(--fill-color);\n",
              "      border-bottom-color: var(--fill-color);\n",
              "    }\n",
              "    90% {\n",
              "      border-color: transparent;\n",
              "      border-bottom-color: var(--fill-color);\n",
              "    }\n",
              "  }\n",
              "</style>\n",
              "\n",
              "  <script>\n",
              "    async function quickchart(key) {\n",
              "      const quickchartButtonEl =\n",
              "        document.querySelector('#' + key + ' button');\n",
              "      quickchartButtonEl.disabled = true;  // To prevent multiple clicks.\n",
              "      quickchartButtonEl.classList.add('colab-df-spinner');\n",
              "      try {\n",
              "        const charts = await google.colab.kernel.invokeFunction(\n",
              "            'suggestCharts', [key], {});\n",
              "      } catch (error) {\n",
              "        console.error('Error during call to suggestCharts:', error);\n",
              "      }\n",
              "      quickchartButtonEl.classList.remove('colab-df-spinner');\n",
              "      quickchartButtonEl.classList.add('colab-df-quickchart-complete');\n",
              "    }\n",
              "    (() => {\n",
              "      let quickchartButtonEl =\n",
              "        document.querySelector('#df-e08c3a64-7203-4b73-ab4f-a4517ef1927b button');\n",
              "      quickchartButtonEl.style.display =\n",
              "        google.colab.kernel.accessAllowed ? 'block' : 'none';\n",
              "    })();\n",
              "  </script>\n",
              "</div>\n",
              "    </div>\n",
              "  </div>\n"
            ]
          },
          "metadata": {},
          "execution_count": 21
        }
      ]
    },
    {
      "cell_type": "code",
      "source": [
        "c0_data[\"label\"]=\"Gryf\"\n",
        "c1_data[\"label\"]=\"Slyn\""
      ],
      "metadata": {
        "id": "izaGPB1ME0wl"
      },
      "execution_count": null,
      "outputs": []
    },
    {
      "cell_type": "code",
      "source": [
        "data=pd.concat([c0_data,c1_data])"
      ],
      "metadata": {
        "id": "Lkh9Wj4tE9hd"
      },
      "execution_count": null,
      "outputs": []
    },
    {
      "cell_type": "code",
      "source": [
        "data"
      ],
      "metadata": {
        "id": "8sr4ldLRFHYd",
        "colab": {
          "base_uri": "https://localhost:8080/",
          "height": 412
        },
        "outputId": "f73b69c9-20e9-41e7-8181-ad7f1ca5ac4a"
      },
      "execution_count": null,
      "outputs": [
        {
          "output_type": "execute_result",
          "data": {
            "text/plain": [
              "          0         1         2         3         4         5         6  \\\n",
              "0  0.261323  0.261543  0.263994  0.265759  0.269166  0.269386  0.269754   \n",
              "1  0.223007  0.223007  0.223007  0.223007  0.223007  0.223007  0.223007   \n",
              "2  0.150969  0.150969  0.150969  0.150969  0.150969  0.150969  0.150969   \n",
              "3  0.269271  0.269271  0.269271  0.269271  0.269271  0.269271  0.269271   \n",
              "4  0.236879  0.229610  0.235432  0.230632  0.224746  0.233389  0.230409   \n",
              "0  0.093812  0.093812  0.093812  0.093812  0.093812  0.093812  0.093812   \n",
              "1  0.398919  0.396937  0.392441  0.386433  0.379951  0.374205  0.367317   \n",
              "2  0.398919  0.396937  0.392441  0.386433  0.379951  0.374205  0.367317   \n",
              "3  0.148891  0.153336  0.158705  0.161146  0.157905  0.144101  0.125599   \n",
              "4  0.148891  0.153336  0.158705  0.161146  0.157905  0.144101  0.125599   \n",
              "\n",
              "          7         8         9  ...     57591     57592     57593     57594  \\\n",
              "0  0.269754  0.269754  0.269754  ...  0.781256  0.786626  0.791014  0.795916   \n",
              "1  0.223007  0.223007  0.222304  ...  0.083938  0.080392  0.061781  0.060523   \n",
              "2  0.150969  0.152807  0.154891  ...  0.089775  0.082652  0.092506  0.093218   \n",
              "3  0.269271  0.269271  0.269271  ...  0.274876  0.209817  0.098295  0.082099   \n",
              "4  0.230887  0.232222  0.233949  ...  0.019860  0.019975  0.020824  0.026438   \n",
              "0  0.093812  0.093812  0.093812  ...  0.381100  0.364212  0.342152  0.319214   \n",
              "1  0.361458  0.358419  0.355162  ...  0.385382  0.319770  0.266485  0.233331   \n",
              "2  0.361458  0.358419  0.355162  ...  0.385382  0.319770  0.266485  0.233331   \n",
              "3  0.102700  0.078956  0.064240  ...  0.003922  0.003922  0.003922  0.004673   \n",
              "4  0.102700  0.078956  0.064240  ...  0.003922  0.003922  0.003922  0.004673   \n",
              "\n",
              "      57595     57596     57597     57598     57599  label  \n",
              "0  0.797172  0.799814  0.795192  0.795904  0.796331   Gryf  \n",
              "1  0.085882  0.090196  0.094029  0.091430  0.076920   Gryf  \n",
              "2  0.065438  0.088351  0.080634  0.070713  0.067871   Gryf  \n",
              "3  0.063101  0.050490  0.048981  0.069102  0.111333   Gryf  \n",
              "4  0.034675  0.044724  0.095624  0.087495  0.071886   Gryf  \n",
              "0  0.298893  0.286932  0.284455  0.287467  0.291735   Slyn  \n",
              "1  0.216925  0.160405  0.170458  0.209061  0.241035   Slyn  \n",
              "2  0.216925  0.160405  0.170458  0.209061  0.241035   Slyn  \n",
              "3  0.007745  0.007843  0.007843  0.007843  0.007843   Slyn  \n",
              "4  0.007745  0.007843  0.007843  0.007843  0.007843   Slyn  \n",
              "\n",
              "[10 rows x 57601 columns]"
            ],
            "text/html": [
              "\n",
              "  <div id=\"df-1f4cc27e-2922-48e2-9e91-857ab491090f\" class=\"colab-df-container\">\n",
              "    <div>\n",
              "<style scoped>\n",
              "    .dataframe tbody tr th:only-of-type {\n",
              "        vertical-align: middle;\n",
              "    }\n",
              "\n",
              "    .dataframe tbody tr th {\n",
              "        vertical-align: top;\n",
              "    }\n",
              "\n",
              "    .dataframe thead th {\n",
              "        text-align: right;\n",
              "    }\n",
              "</style>\n",
              "<table border=\"1\" class=\"dataframe\">\n",
              "  <thead>\n",
              "    <tr style=\"text-align: right;\">\n",
              "      <th></th>\n",
              "      <th>0</th>\n",
              "      <th>1</th>\n",
              "      <th>2</th>\n",
              "      <th>3</th>\n",
              "      <th>4</th>\n",
              "      <th>5</th>\n",
              "      <th>6</th>\n",
              "      <th>7</th>\n",
              "      <th>8</th>\n",
              "      <th>9</th>\n",
              "      <th>...</th>\n",
              "      <th>57591</th>\n",
              "      <th>57592</th>\n",
              "      <th>57593</th>\n",
              "      <th>57594</th>\n",
              "      <th>57595</th>\n",
              "      <th>57596</th>\n",
              "      <th>57597</th>\n",
              "      <th>57598</th>\n",
              "      <th>57599</th>\n",
              "      <th>label</th>\n",
              "    </tr>\n",
              "  </thead>\n",
              "  <tbody>\n",
              "    <tr>\n",
              "      <th>0</th>\n",
              "      <td>0.261323</td>\n",
              "      <td>0.261543</td>\n",
              "      <td>0.263994</td>\n",
              "      <td>0.265759</td>\n",
              "      <td>0.269166</td>\n",
              "      <td>0.269386</td>\n",
              "      <td>0.269754</td>\n",
              "      <td>0.269754</td>\n",
              "      <td>0.269754</td>\n",
              "      <td>0.269754</td>\n",
              "      <td>...</td>\n",
              "      <td>0.781256</td>\n",
              "      <td>0.786626</td>\n",
              "      <td>0.791014</td>\n",
              "      <td>0.795916</td>\n",
              "      <td>0.797172</td>\n",
              "      <td>0.799814</td>\n",
              "      <td>0.795192</td>\n",
              "      <td>0.795904</td>\n",
              "      <td>0.796331</td>\n",
              "      <td>Gryf</td>\n",
              "    </tr>\n",
              "    <tr>\n",
              "      <th>1</th>\n",
              "      <td>0.223007</td>\n",
              "      <td>0.223007</td>\n",
              "      <td>0.223007</td>\n",
              "      <td>0.223007</td>\n",
              "      <td>0.223007</td>\n",
              "      <td>0.223007</td>\n",
              "      <td>0.223007</td>\n",
              "      <td>0.223007</td>\n",
              "      <td>0.223007</td>\n",
              "      <td>0.222304</td>\n",
              "      <td>...</td>\n",
              "      <td>0.083938</td>\n",
              "      <td>0.080392</td>\n",
              "      <td>0.061781</td>\n",
              "      <td>0.060523</td>\n",
              "      <td>0.085882</td>\n",
              "      <td>0.090196</td>\n",
              "      <td>0.094029</td>\n",
              "      <td>0.091430</td>\n",
              "      <td>0.076920</td>\n",
              "      <td>Gryf</td>\n",
              "    </tr>\n",
              "    <tr>\n",
              "      <th>2</th>\n",
              "      <td>0.150969</td>\n",
              "      <td>0.150969</td>\n",
              "      <td>0.150969</td>\n",
              "      <td>0.150969</td>\n",
              "      <td>0.150969</td>\n",
              "      <td>0.150969</td>\n",
              "      <td>0.150969</td>\n",
              "      <td>0.150969</td>\n",
              "      <td>0.152807</td>\n",
              "      <td>0.154891</td>\n",
              "      <td>...</td>\n",
              "      <td>0.089775</td>\n",
              "      <td>0.082652</td>\n",
              "      <td>0.092506</td>\n",
              "      <td>0.093218</td>\n",
              "      <td>0.065438</td>\n",
              "      <td>0.088351</td>\n",
              "      <td>0.080634</td>\n",
              "      <td>0.070713</td>\n",
              "      <td>0.067871</td>\n",
              "      <td>Gryf</td>\n",
              "    </tr>\n",
              "    <tr>\n",
              "      <th>3</th>\n",
              "      <td>0.269271</td>\n",
              "      <td>0.269271</td>\n",
              "      <td>0.269271</td>\n",
              "      <td>0.269271</td>\n",
              "      <td>0.269271</td>\n",
              "      <td>0.269271</td>\n",
              "      <td>0.269271</td>\n",
              "      <td>0.269271</td>\n",
              "      <td>0.269271</td>\n",
              "      <td>0.269271</td>\n",
              "      <td>...</td>\n",
              "      <td>0.274876</td>\n",
              "      <td>0.209817</td>\n",
              "      <td>0.098295</td>\n",
              "      <td>0.082099</td>\n",
              "      <td>0.063101</td>\n",
              "      <td>0.050490</td>\n",
              "      <td>0.048981</td>\n",
              "      <td>0.069102</td>\n",
              "      <td>0.111333</td>\n",
              "      <td>Gryf</td>\n",
              "    </tr>\n",
              "    <tr>\n",
              "      <th>4</th>\n",
              "      <td>0.236879</td>\n",
              "      <td>0.229610</td>\n",
              "      <td>0.235432</td>\n",
              "      <td>0.230632</td>\n",
              "      <td>0.224746</td>\n",
              "      <td>0.233389</td>\n",
              "      <td>0.230409</td>\n",
              "      <td>0.230887</td>\n",
              "      <td>0.232222</td>\n",
              "      <td>0.233949</td>\n",
              "      <td>...</td>\n",
              "      <td>0.019860</td>\n",
              "      <td>0.019975</td>\n",
              "      <td>0.020824</td>\n",
              "      <td>0.026438</td>\n",
              "      <td>0.034675</td>\n",
              "      <td>0.044724</td>\n",
              "      <td>0.095624</td>\n",
              "      <td>0.087495</td>\n",
              "      <td>0.071886</td>\n",
              "      <td>Gryf</td>\n",
              "    </tr>\n",
              "    <tr>\n",
              "      <th>0</th>\n",
              "      <td>0.093812</td>\n",
              "      <td>0.093812</td>\n",
              "      <td>0.093812</td>\n",
              "      <td>0.093812</td>\n",
              "      <td>0.093812</td>\n",
              "      <td>0.093812</td>\n",
              "      <td>0.093812</td>\n",
              "      <td>0.093812</td>\n",
              "      <td>0.093812</td>\n",
              "      <td>0.093812</td>\n",
              "      <td>...</td>\n",
              "      <td>0.381100</td>\n",
              "      <td>0.364212</td>\n",
              "      <td>0.342152</td>\n",
              "      <td>0.319214</td>\n",
              "      <td>0.298893</td>\n",
              "      <td>0.286932</td>\n",
              "      <td>0.284455</td>\n",
              "      <td>0.287467</td>\n",
              "      <td>0.291735</td>\n",
              "      <td>Slyn</td>\n",
              "    </tr>\n",
              "    <tr>\n",
              "      <th>1</th>\n",
              "      <td>0.398919</td>\n",
              "      <td>0.396937</td>\n",
              "      <td>0.392441</td>\n",
              "      <td>0.386433</td>\n",
              "      <td>0.379951</td>\n",
              "      <td>0.374205</td>\n",
              "      <td>0.367317</td>\n",
              "      <td>0.361458</td>\n",
              "      <td>0.358419</td>\n",
              "      <td>0.355162</td>\n",
              "      <td>...</td>\n",
              "      <td>0.385382</td>\n",
              "      <td>0.319770</td>\n",
              "      <td>0.266485</td>\n",
              "      <td>0.233331</td>\n",
              "      <td>0.216925</td>\n",
              "      <td>0.160405</td>\n",
              "      <td>0.170458</td>\n",
              "      <td>0.209061</td>\n",
              "      <td>0.241035</td>\n",
              "      <td>Slyn</td>\n",
              "    </tr>\n",
              "    <tr>\n",
              "      <th>2</th>\n",
              "      <td>0.398919</td>\n",
              "      <td>0.396937</td>\n",
              "      <td>0.392441</td>\n",
              "      <td>0.386433</td>\n",
              "      <td>0.379951</td>\n",
              "      <td>0.374205</td>\n",
              "      <td>0.367317</td>\n",
              "      <td>0.361458</td>\n",
              "      <td>0.358419</td>\n",
              "      <td>0.355162</td>\n",
              "      <td>...</td>\n",
              "      <td>0.385382</td>\n",
              "      <td>0.319770</td>\n",
              "      <td>0.266485</td>\n",
              "      <td>0.233331</td>\n",
              "      <td>0.216925</td>\n",
              "      <td>0.160405</td>\n",
              "      <td>0.170458</td>\n",
              "      <td>0.209061</td>\n",
              "      <td>0.241035</td>\n",
              "      <td>Slyn</td>\n",
              "    </tr>\n",
              "    <tr>\n",
              "      <th>3</th>\n",
              "      <td>0.148891</td>\n",
              "      <td>0.153336</td>\n",
              "      <td>0.158705</td>\n",
              "      <td>0.161146</td>\n",
              "      <td>0.157905</td>\n",
              "      <td>0.144101</td>\n",
              "      <td>0.125599</td>\n",
              "      <td>0.102700</td>\n",
              "      <td>0.078956</td>\n",
              "      <td>0.064240</td>\n",
              "      <td>...</td>\n",
              "      <td>0.003922</td>\n",
              "      <td>0.003922</td>\n",
              "      <td>0.003922</td>\n",
              "      <td>0.004673</td>\n",
              "      <td>0.007745</td>\n",
              "      <td>0.007843</td>\n",
              "      <td>0.007843</td>\n",
              "      <td>0.007843</td>\n",
              "      <td>0.007843</td>\n",
              "      <td>Slyn</td>\n",
              "    </tr>\n",
              "    <tr>\n",
              "      <th>4</th>\n",
              "      <td>0.148891</td>\n",
              "      <td>0.153336</td>\n",
              "      <td>0.158705</td>\n",
              "      <td>0.161146</td>\n",
              "      <td>0.157905</td>\n",
              "      <td>0.144101</td>\n",
              "      <td>0.125599</td>\n",
              "      <td>0.102700</td>\n",
              "      <td>0.078956</td>\n",
              "      <td>0.064240</td>\n",
              "      <td>...</td>\n",
              "      <td>0.003922</td>\n",
              "      <td>0.003922</td>\n",
              "      <td>0.003922</td>\n",
              "      <td>0.004673</td>\n",
              "      <td>0.007745</td>\n",
              "      <td>0.007843</td>\n",
              "      <td>0.007843</td>\n",
              "      <td>0.007843</td>\n",
              "      <td>0.007843</td>\n",
              "      <td>Slyn</td>\n",
              "    </tr>\n",
              "  </tbody>\n",
              "</table>\n",
              "<p>10 rows × 57601 columns</p>\n",
              "</div>\n",
              "    <div class=\"colab-df-buttons\">\n",
              "\n",
              "  <div class=\"colab-df-container\">\n",
              "    <button class=\"colab-df-convert\" onclick=\"convertToInteractive('df-1f4cc27e-2922-48e2-9e91-857ab491090f')\"\n",
              "            title=\"Convert this dataframe to an interactive table.\"\n",
              "            style=\"display:none;\">\n",
              "\n",
              "  <svg xmlns=\"http://www.w3.org/2000/svg\" height=\"24px\" viewBox=\"0 -960 960 960\">\n",
              "    <path d=\"M120-120v-720h720v720H120Zm60-500h600v-160H180v160Zm220 220h160v-160H400v160Zm0 220h160v-160H400v160ZM180-400h160v-160H180v160Zm440 0h160v-160H620v160ZM180-180h160v-160H180v160Zm440 0h160v-160H620v160Z\"/>\n",
              "  </svg>\n",
              "    </button>\n",
              "\n",
              "  <style>\n",
              "    .colab-df-container {\n",
              "      display:flex;\n",
              "      gap: 12px;\n",
              "    }\n",
              "\n",
              "    .colab-df-convert {\n",
              "      background-color: #E8F0FE;\n",
              "      border: none;\n",
              "      border-radius: 50%;\n",
              "      cursor: pointer;\n",
              "      display: none;\n",
              "      fill: #1967D2;\n",
              "      height: 32px;\n",
              "      padding: 0 0 0 0;\n",
              "      width: 32px;\n",
              "    }\n",
              "\n",
              "    .colab-df-convert:hover {\n",
              "      background-color: #E2EBFA;\n",
              "      box-shadow: 0px 1px 2px rgba(60, 64, 67, 0.3), 0px 1px 3px 1px rgba(60, 64, 67, 0.15);\n",
              "      fill: #174EA6;\n",
              "    }\n",
              "\n",
              "    .colab-df-buttons div {\n",
              "      margin-bottom: 4px;\n",
              "    }\n",
              "\n",
              "    [theme=dark] .colab-df-convert {\n",
              "      background-color: #3B4455;\n",
              "      fill: #D2E3FC;\n",
              "    }\n",
              "\n",
              "    [theme=dark] .colab-df-convert:hover {\n",
              "      background-color: #434B5C;\n",
              "      box-shadow: 0px 1px 3px 1px rgba(0, 0, 0, 0.15);\n",
              "      filter: drop-shadow(0px 1px 2px rgba(0, 0, 0, 0.3));\n",
              "      fill: #FFFFFF;\n",
              "    }\n",
              "  </style>\n",
              "\n",
              "    <script>\n",
              "      const buttonEl =\n",
              "        document.querySelector('#df-1f4cc27e-2922-48e2-9e91-857ab491090f button.colab-df-convert');\n",
              "      buttonEl.style.display =\n",
              "        google.colab.kernel.accessAllowed ? 'block' : 'none';\n",
              "\n",
              "      async function convertToInteractive(key) {\n",
              "        const element = document.querySelector('#df-1f4cc27e-2922-48e2-9e91-857ab491090f');\n",
              "        const dataTable =\n",
              "          await google.colab.kernel.invokeFunction('convertToInteractive',\n",
              "                                                    [key], {});\n",
              "        if (!dataTable) return;\n",
              "\n",
              "        const docLinkHtml = 'Like what you see? Visit the ' +\n",
              "          '<a target=\"_blank\" href=https://colab.research.google.com/notebooks/data_table.ipynb>data table notebook</a>'\n",
              "          + ' to learn more about interactive tables.';\n",
              "        element.innerHTML = '';\n",
              "        dataTable['output_type'] = 'display_data';\n",
              "        await google.colab.output.renderOutput(dataTable, element);\n",
              "        const docLink = document.createElement('div');\n",
              "        docLink.innerHTML = docLinkHtml;\n",
              "        element.appendChild(docLink);\n",
              "      }\n",
              "    </script>\n",
              "  </div>\n",
              "\n",
              "\n",
              "<div id=\"df-cce1eb26-ff84-4967-9b66-700d5a93bfff\">\n",
              "  <button class=\"colab-df-quickchart\" onclick=\"quickchart('df-cce1eb26-ff84-4967-9b66-700d5a93bfff')\"\n",
              "            title=\"Suggest charts.\"\n",
              "            style=\"display:none;\">\n",
              "\n",
              "<svg xmlns=\"http://www.w3.org/2000/svg\" height=\"24px\"viewBox=\"0 0 24 24\"\n",
              "     width=\"24px\">\n",
              "    <g>\n",
              "        <path d=\"M19 3H5c-1.1 0-2 .9-2 2v14c0 1.1.9 2 2 2h14c1.1 0 2-.9 2-2V5c0-1.1-.9-2-2-2zM9 17H7v-7h2v7zm4 0h-2V7h2v10zm4 0h-2v-4h2v4z\"/>\n",
              "    </g>\n",
              "</svg>\n",
              "  </button>\n",
              "\n",
              "<style>\n",
              "  .colab-df-quickchart {\n",
              "      --bg-color: #E8F0FE;\n",
              "      --fill-color: #1967D2;\n",
              "      --hover-bg-color: #E2EBFA;\n",
              "      --hover-fill-color: #174EA6;\n",
              "      --disabled-fill-color: #AAA;\n",
              "      --disabled-bg-color: #DDD;\n",
              "  }\n",
              "\n",
              "  [theme=dark] .colab-df-quickchart {\n",
              "      --bg-color: #3B4455;\n",
              "      --fill-color: #D2E3FC;\n",
              "      --hover-bg-color: #434B5C;\n",
              "      --hover-fill-color: #FFFFFF;\n",
              "      --disabled-bg-color: #3B4455;\n",
              "      --disabled-fill-color: #666;\n",
              "  }\n",
              "\n",
              "  .colab-df-quickchart {\n",
              "    background-color: var(--bg-color);\n",
              "    border: none;\n",
              "    border-radius: 50%;\n",
              "    cursor: pointer;\n",
              "    display: none;\n",
              "    fill: var(--fill-color);\n",
              "    height: 32px;\n",
              "    padding: 0;\n",
              "    width: 32px;\n",
              "  }\n",
              "\n",
              "  .colab-df-quickchart:hover {\n",
              "    background-color: var(--hover-bg-color);\n",
              "    box-shadow: 0 1px 2px rgba(60, 64, 67, 0.3), 0 1px 3px 1px rgba(60, 64, 67, 0.15);\n",
              "    fill: var(--button-hover-fill-color);\n",
              "  }\n",
              "\n",
              "  .colab-df-quickchart-complete:disabled,\n",
              "  .colab-df-quickchart-complete:disabled:hover {\n",
              "    background-color: var(--disabled-bg-color);\n",
              "    fill: var(--disabled-fill-color);\n",
              "    box-shadow: none;\n",
              "  }\n",
              "\n",
              "  .colab-df-spinner {\n",
              "    border: 2px solid var(--fill-color);\n",
              "    border-color: transparent;\n",
              "    border-bottom-color: var(--fill-color);\n",
              "    animation:\n",
              "      spin 1s steps(1) infinite;\n",
              "  }\n",
              "\n",
              "  @keyframes spin {\n",
              "    0% {\n",
              "      border-color: transparent;\n",
              "      border-bottom-color: var(--fill-color);\n",
              "      border-left-color: var(--fill-color);\n",
              "    }\n",
              "    20% {\n",
              "      border-color: transparent;\n",
              "      border-left-color: var(--fill-color);\n",
              "      border-top-color: var(--fill-color);\n",
              "    }\n",
              "    30% {\n",
              "      border-color: transparent;\n",
              "      border-left-color: var(--fill-color);\n",
              "      border-top-color: var(--fill-color);\n",
              "      border-right-color: var(--fill-color);\n",
              "    }\n",
              "    40% {\n",
              "      border-color: transparent;\n",
              "      border-right-color: var(--fill-color);\n",
              "      border-top-color: var(--fill-color);\n",
              "    }\n",
              "    60% {\n",
              "      border-color: transparent;\n",
              "      border-right-color: var(--fill-color);\n",
              "    }\n",
              "    80% {\n",
              "      border-color: transparent;\n",
              "      border-right-color: var(--fill-color);\n",
              "      border-bottom-color: var(--fill-color);\n",
              "    }\n",
              "    90% {\n",
              "      border-color: transparent;\n",
              "      border-bottom-color: var(--fill-color);\n",
              "    }\n",
              "  }\n",
              "</style>\n",
              "\n",
              "  <script>\n",
              "    async function quickchart(key) {\n",
              "      const quickchartButtonEl =\n",
              "        document.querySelector('#' + key + ' button');\n",
              "      quickchartButtonEl.disabled = true;  // To prevent multiple clicks.\n",
              "      quickchartButtonEl.classList.add('colab-df-spinner');\n",
              "      try {\n",
              "        const charts = await google.colab.kernel.invokeFunction(\n",
              "            'suggestCharts', [key], {});\n",
              "      } catch (error) {\n",
              "        console.error('Error during call to suggestCharts:', error);\n",
              "      }\n",
              "      quickchartButtonEl.classList.remove('colab-df-spinner');\n",
              "      quickchartButtonEl.classList.add('colab-df-quickchart-complete');\n",
              "    }\n",
              "    (() => {\n",
              "      let quickchartButtonEl =\n",
              "        document.querySelector('#df-cce1eb26-ff84-4967-9b66-700d5a93bfff button');\n",
              "      quickchartButtonEl.style.display =\n",
              "        google.colab.kernel.accessAllowed ? 'block' : 'none';\n",
              "    })();\n",
              "  </script>\n",
              "</div>\n",
              "    </div>\n",
              "  </div>\n"
            ]
          },
          "metadata": {},
          "execution_count": 24
        }
      ]
    },
    {
      "cell_type": "code",
      "source": [],
      "metadata": {
        "id": "lZu5zot99IiE"
      },
      "execution_count": null,
      "outputs": []
    },
    {
      "cell_type": "code",
      "source": [
        "one_hot_encoded_data = pd.get_dummies(data, columns = ['label'])\n",
        "print(one_hot_encoded_data)"
      ],
      "metadata": {
        "id": "0jIcMd7r7EP5",
        "colab": {
          "base_uri": "https://localhost:8080/"
        },
        "outputId": "d2f49225-7a0d-4bba-e889-654bf1784364"
      },
      "execution_count": null,
      "outputs": [
        {
          "output_type": "stream",
          "name": "stdout",
          "text": [
            "          0         1         2         3         4         5         6  \\\n",
            "0  0.261323  0.261543  0.263994  0.265759  0.269166  0.269386  0.269754   \n",
            "1  0.223007  0.223007  0.223007  0.223007  0.223007  0.223007  0.223007   \n",
            "2  0.150969  0.150969  0.150969  0.150969  0.150969  0.150969  0.150969   \n",
            "3  0.269271  0.269271  0.269271  0.269271  0.269271  0.269271  0.269271   \n",
            "4  0.236879  0.229610  0.235432  0.230632  0.224746  0.233389  0.230409   \n",
            "0  0.093812  0.093812  0.093812  0.093812  0.093812  0.093812  0.093812   \n",
            "1  0.398919  0.396937  0.392441  0.386433  0.379951  0.374205  0.367317   \n",
            "2  0.398919  0.396937  0.392441  0.386433  0.379951  0.374205  0.367317   \n",
            "3  0.148891  0.153336  0.158705  0.161146  0.157905  0.144101  0.125599   \n",
            "4  0.148891  0.153336  0.158705  0.161146  0.157905  0.144101  0.125599   \n",
            "\n",
            "          7         8         9  ...     57592     57593     57594     57595  \\\n",
            "0  0.269754  0.269754  0.269754  ...  0.786626  0.791014  0.795916  0.797172   \n",
            "1  0.223007  0.223007  0.222304  ...  0.080392  0.061781  0.060523  0.085882   \n",
            "2  0.150969  0.152807  0.154891  ...  0.082652  0.092506  0.093218  0.065438   \n",
            "3  0.269271  0.269271  0.269271  ...  0.209817  0.098295  0.082099  0.063101   \n",
            "4  0.230887  0.232222  0.233949  ...  0.019975  0.020824  0.026438  0.034675   \n",
            "0  0.093812  0.093812  0.093812  ...  0.364212  0.342152  0.319214  0.298893   \n",
            "1  0.361458  0.358419  0.355162  ...  0.319770  0.266485  0.233331  0.216925   \n",
            "2  0.361458  0.358419  0.355162  ...  0.319770  0.266485  0.233331  0.216925   \n",
            "3  0.102700  0.078956  0.064240  ...  0.003922  0.003922  0.004673  0.007745   \n",
            "4  0.102700  0.078956  0.064240  ...  0.003922  0.003922  0.004673  0.007745   \n",
            "\n",
            "      57596     57597     57598     57599  label_Gryf  label_Slyn  \n",
            "0  0.799814  0.795192  0.795904  0.796331           1           0  \n",
            "1  0.090196  0.094029  0.091430  0.076920           1           0  \n",
            "2  0.088351  0.080634  0.070713  0.067871           1           0  \n",
            "3  0.050490  0.048981  0.069102  0.111333           1           0  \n",
            "4  0.044724  0.095624  0.087495  0.071886           1           0  \n",
            "0  0.286932  0.284455  0.287467  0.291735           0           1  \n",
            "1  0.160405  0.170458  0.209061  0.241035           0           1  \n",
            "2  0.160405  0.170458  0.209061  0.241035           0           1  \n",
            "3  0.007843  0.007843  0.007843  0.007843           0           1  \n",
            "4  0.007843  0.007843  0.007843  0.007843           0           1  \n",
            "\n",
            "[10 rows x 57602 columns]\n"
          ]
        }
      ]
    },
    {
      "cell_type": "code",
      "source": [
        "one_hot_encoded_data.to_csv(\"/content/drive/MyDrive/imageprocessing.csv\")"
      ],
      "metadata": {
        "id": "xy2FXm2u9J7l"
      },
      "execution_count": null,
      "outputs": []
    },
    {
      "cell_type": "code",
      "source": [
        "import pandas as pd, numpy as np\n",
        "import matplotlib.pyplot as plt, seaborn as sns\n",
        "%matplotlib inline"
      ],
      "metadata": {
        "id": "mryl0NlI8-Ls"
      },
      "execution_count": null,
      "outputs": []
    },
    {
      "cell_type": "code",
      "source": [
        "import pandas as pd\n",
        "df=pd.read_csv(\"/content/drive/MyDrive/imageprocessing.csv\")\n",
        "df.head()"
      ],
      "metadata": {
        "colab": {
          "base_uri": "https://localhost:8080/",
          "height": 273
        },
        "id": "FfG1_MAh7sSR",
        "outputId": "a9a2dbb3-226e-41c5-c7fe-6eed7b2d90b9"
      },
      "execution_count": null,
      "outputs": [
        {
          "output_type": "execute_result",
          "data": {
            "text/plain": [
              "   Unnamed: 0         0         1         2         3         4         5  \\\n",
              "0           0  0.261323  0.261543  0.263994  0.265759  0.269166  0.269386   \n",
              "1           1  0.223007  0.223007  0.223007  0.223007  0.223007  0.223007   \n",
              "2           2  0.150969  0.150969  0.150969  0.150969  0.150969  0.150969   \n",
              "3           3  0.269271  0.269271  0.269271  0.269271  0.269271  0.269271   \n",
              "4           4  0.236879  0.229610  0.235432  0.230632  0.224746  0.233389   \n",
              "\n",
              "          6         7         8  ...     57592     57593     57594     57595  \\\n",
              "0  0.269754  0.269754  0.269754  ...  0.786626  0.791014  0.795916  0.797172   \n",
              "1  0.223007  0.223007  0.223007  ...  0.080392  0.061781  0.060523  0.085882   \n",
              "2  0.150969  0.150969  0.152807  ...  0.082652  0.092506  0.093218  0.065438   \n",
              "3  0.269271  0.269271  0.269271  ...  0.209817  0.098295  0.082099  0.063101   \n",
              "4  0.230409  0.230887  0.232222  ...  0.019975  0.020824  0.026438  0.034675   \n",
              "\n",
              "      57596     57597     57598     57599  label_Gryf  label_Slyn  \n",
              "0  0.799814  0.795192  0.795904  0.796331           1           0  \n",
              "1  0.090196  0.094029  0.091430  0.076920           1           0  \n",
              "2  0.088351  0.080634  0.070713  0.067871           1           0  \n",
              "3  0.050490  0.048981  0.069102  0.111333           1           0  \n",
              "4  0.044724  0.095624  0.087495  0.071886           1           0  \n",
              "\n",
              "[5 rows x 57603 columns]"
            ],
            "text/html": [
              "\n",
              "  <div id=\"df-ee190eb4-8055-47dc-b77e-9474b8b7e1a0\" class=\"colab-df-container\">\n",
              "    <div>\n",
              "<style scoped>\n",
              "    .dataframe tbody tr th:only-of-type {\n",
              "        vertical-align: middle;\n",
              "    }\n",
              "\n",
              "    .dataframe tbody tr th {\n",
              "        vertical-align: top;\n",
              "    }\n",
              "\n",
              "    .dataframe thead th {\n",
              "        text-align: right;\n",
              "    }\n",
              "</style>\n",
              "<table border=\"1\" class=\"dataframe\">\n",
              "  <thead>\n",
              "    <tr style=\"text-align: right;\">\n",
              "      <th></th>\n",
              "      <th>Unnamed: 0</th>\n",
              "      <th>0</th>\n",
              "      <th>1</th>\n",
              "      <th>2</th>\n",
              "      <th>3</th>\n",
              "      <th>4</th>\n",
              "      <th>5</th>\n",
              "      <th>6</th>\n",
              "      <th>7</th>\n",
              "      <th>8</th>\n",
              "      <th>...</th>\n",
              "      <th>57592</th>\n",
              "      <th>57593</th>\n",
              "      <th>57594</th>\n",
              "      <th>57595</th>\n",
              "      <th>57596</th>\n",
              "      <th>57597</th>\n",
              "      <th>57598</th>\n",
              "      <th>57599</th>\n",
              "      <th>label_Gryf</th>\n",
              "      <th>label_Slyn</th>\n",
              "    </tr>\n",
              "  </thead>\n",
              "  <tbody>\n",
              "    <tr>\n",
              "      <th>0</th>\n",
              "      <td>0</td>\n",
              "      <td>0.261323</td>\n",
              "      <td>0.261543</td>\n",
              "      <td>0.263994</td>\n",
              "      <td>0.265759</td>\n",
              "      <td>0.269166</td>\n",
              "      <td>0.269386</td>\n",
              "      <td>0.269754</td>\n",
              "      <td>0.269754</td>\n",
              "      <td>0.269754</td>\n",
              "      <td>...</td>\n",
              "      <td>0.786626</td>\n",
              "      <td>0.791014</td>\n",
              "      <td>0.795916</td>\n",
              "      <td>0.797172</td>\n",
              "      <td>0.799814</td>\n",
              "      <td>0.795192</td>\n",
              "      <td>0.795904</td>\n",
              "      <td>0.796331</td>\n",
              "      <td>1</td>\n",
              "      <td>0</td>\n",
              "    </tr>\n",
              "    <tr>\n",
              "      <th>1</th>\n",
              "      <td>1</td>\n",
              "      <td>0.223007</td>\n",
              "      <td>0.223007</td>\n",
              "      <td>0.223007</td>\n",
              "      <td>0.223007</td>\n",
              "      <td>0.223007</td>\n",
              "      <td>0.223007</td>\n",
              "      <td>0.223007</td>\n",
              "      <td>0.223007</td>\n",
              "      <td>0.223007</td>\n",
              "      <td>...</td>\n",
              "      <td>0.080392</td>\n",
              "      <td>0.061781</td>\n",
              "      <td>0.060523</td>\n",
              "      <td>0.085882</td>\n",
              "      <td>0.090196</td>\n",
              "      <td>0.094029</td>\n",
              "      <td>0.091430</td>\n",
              "      <td>0.076920</td>\n",
              "      <td>1</td>\n",
              "      <td>0</td>\n",
              "    </tr>\n",
              "    <tr>\n",
              "      <th>2</th>\n",
              "      <td>2</td>\n",
              "      <td>0.150969</td>\n",
              "      <td>0.150969</td>\n",
              "      <td>0.150969</td>\n",
              "      <td>0.150969</td>\n",
              "      <td>0.150969</td>\n",
              "      <td>0.150969</td>\n",
              "      <td>0.150969</td>\n",
              "      <td>0.150969</td>\n",
              "      <td>0.152807</td>\n",
              "      <td>...</td>\n",
              "      <td>0.082652</td>\n",
              "      <td>0.092506</td>\n",
              "      <td>0.093218</td>\n",
              "      <td>0.065438</td>\n",
              "      <td>0.088351</td>\n",
              "      <td>0.080634</td>\n",
              "      <td>0.070713</td>\n",
              "      <td>0.067871</td>\n",
              "      <td>1</td>\n",
              "      <td>0</td>\n",
              "    </tr>\n",
              "    <tr>\n",
              "      <th>3</th>\n",
              "      <td>3</td>\n",
              "      <td>0.269271</td>\n",
              "      <td>0.269271</td>\n",
              "      <td>0.269271</td>\n",
              "      <td>0.269271</td>\n",
              "      <td>0.269271</td>\n",
              "      <td>0.269271</td>\n",
              "      <td>0.269271</td>\n",
              "      <td>0.269271</td>\n",
              "      <td>0.269271</td>\n",
              "      <td>...</td>\n",
              "      <td>0.209817</td>\n",
              "      <td>0.098295</td>\n",
              "      <td>0.082099</td>\n",
              "      <td>0.063101</td>\n",
              "      <td>0.050490</td>\n",
              "      <td>0.048981</td>\n",
              "      <td>0.069102</td>\n",
              "      <td>0.111333</td>\n",
              "      <td>1</td>\n",
              "      <td>0</td>\n",
              "    </tr>\n",
              "    <tr>\n",
              "      <th>4</th>\n",
              "      <td>4</td>\n",
              "      <td>0.236879</td>\n",
              "      <td>0.229610</td>\n",
              "      <td>0.235432</td>\n",
              "      <td>0.230632</td>\n",
              "      <td>0.224746</td>\n",
              "      <td>0.233389</td>\n",
              "      <td>0.230409</td>\n",
              "      <td>0.230887</td>\n",
              "      <td>0.232222</td>\n",
              "      <td>...</td>\n",
              "      <td>0.019975</td>\n",
              "      <td>0.020824</td>\n",
              "      <td>0.026438</td>\n",
              "      <td>0.034675</td>\n",
              "      <td>0.044724</td>\n",
              "      <td>0.095624</td>\n",
              "      <td>0.087495</td>\n",
              "      <td>0.071886</td>\n",
              "      <td>1</td>\n",
              "      <td>0</td>\n",
              "    </tr>\n",
              "  </tbody>\n",
              "</table>\n",
              "<p>5 rows × 57603 columns</p>\n",
              "</div>\n",
              "    <div class=\"colab-df-buttons\">\n",
              "\n",
              "  <div class=\"colab-df-container\">\n",
              "    <button class=\"colab-df-convert\" onclick=\"convertToInteractive('df-ee190eb4-8055-47dc-b77e-9474b8b7e1a0')\"\n",
              "            title=\"Convert this dataframe to an interactive table.\"\n",
              "            style=\"display:none;\">\n",
              "\n",
              "  <svg xmlns=\"http://www.w3.org/2000/svg\" height=\"24px\" viewBox=\"0 -960 960 960\">\n",
              "    <path d=\"M120-120v-720h720v720H120Zm60-500h600v-160H180v160Zm220 220h160v-160H400v160Zm0 220h160v-160H400v160ZM180-400h160v-160H180v160Zm440 0h160v-160H620v160ZM180-180h160v-160H180v160Zm440 0h160v-160H620v160Z\"/>\n",
              "  </svg>\n",
              "    </button>\n",
              "\n",
              "  <style>\n",
              "    .colab-df-container {\n",
              "      display:flex;\n",
              "      gap: 12px;\n",
              "    }\n",
              "\n",
              "    .colab-df-convert {\n",
              "      background-color: #E8F0FE;\n",
              "      border: none;\n",
              "      border-radius: 50%;\n",
              "      cursor: pointer;\n",
              "      display: none;\n",
              "      fill: #1967D2;\n",
              "      height: 32px;\n",
              "      padding: 0 0 0 0;\n",
              "      width: 32px;\n",
              "    }\n",
              "\n",
              "    .colab-df-convert:hover {\n",
              "      background-color: #E2EBFA;\n",
              "      box-shadow: 0px 1px 2px rgba(60, 64, 67, 0.3), 0px 1px 3px 1px rgba(60, 64, 67, 0.15);\n",
              "      fill: #174EA6;\n",
              "    }\n",
              "\n",
              "    .colab-df-buttons div {\n",
              "      margin-bottom: 4px;\n",
              "    }\n",
              "\n",
              "    [theme=dark] .colab-df-convert {\n",
              "      background-color: #3B4455;\n",
              "      fill: #D2E3FC;\n",
              "    }\n",
              "\n",
              "    [theme=dark] .colab-df-convert:hover {\n",
              "      background-color: #434B5C;\n",
              "      box-shadow: 0px 1px 3px 1px rgba(0, 0, 0, 0.15);\n",
              "      filter: drop-shadow(0px 1px 2px rgba(0, 0, 0, 0.3));\n",
              "      fill: #FFFFFF;\n",
              "    }\n",
              "  </style>\n",
              "\n",
              "    <script>\n",
              "      const buttonEl =\n",
              "        document.querySelector('#df-ee190eb4-8055-47dc-b77e-9474b8b7e1a0 button.colab-df-convert');\n",
              "      buttonEl.style.display =\n",
              "        google.colab.kernel.accessAllowed ? 'block' : 'none';\n",
              "\n",
              "      async function convertToInteractive(key) {\n",
              "        const element = document.querySelector('#df-ee190eb4-8055-47dc-b77e-9474b8b7e1a0');\n",
              "        const dataTable =\n",
              "          await google.colab.kernel.invokeFunction('convertToInteractive',\n",
              "                                                    [key], {});\n",
              "        if (!dataTable) return;\n",
              "\n",
              "        const docLinkHtml = 'Like what you see? Visit the ' +\n",
              "          '<a target=\"_blank\" href=https://colab.research.google.com/notebooks/data_table.ipynb>data table notebook</a>'\n",
              "          + ' to learn more about interactive tables.';\n",
              "        element.innerHTML = '';\n",
              "        dataTable['output_type'] = 'display_data';\n",
              "        await google.colab.output.renderOutput(dataTable, element);\n",
              "        const docLink = document.createElement('div');\n",
              "        docLink.innerHTML = docLinkHtml;\n",
              "        element.appendChild(docLink);\n",
              "      }\n",
              "    </script>\n",
              "  </div>\n",
              "\n",
              "\n",
              "<div id=\"df-f1caa81b-f29c-4835-b17e-bbaa162c4aa6\">\n",
              "  <button class=\"colab-df-quickchart\" onclick=\"quickchart('df-f1caa81b-f29c-4835-b17e-bbaa162c4aa6')\"\n",
              "            title=\"Suggest charts.\"\n",
              "            style=\"display:none;\">\n",
              "\n",
              "<svg xmlns=\"http://www.w3.org/2000/svg\" height=\"24px\"viewBox=\"0 0 24 24\"\n",
              "     width=\"24px\">\n",
              "    <g>\n",
              "        <path d=\"M19 3H5c-1.1 0-2 .9-2 2v14c0 1.1.9 2 2 2h14c1.1 0 2-.9 2-2V5c0-1.1-.9-2-2-2zM9 17H7v-7h2v7zm4 0h-2V7h2v10zm4 0h-2v-4h2v4z\"/>\n",
              "    </g>\n",
              "</svg>\n",
              "  </button>\n",
              "\n",
              "<style>\n",
              "  .colab-df-quickchart {\n",
              "      --bg-color: #E8F0FE;\n",
              "      --fill-color: #1967D2;\n",
              "      --hover-bg-color: #E2EBFA;\n",
              "      --hover-fill-color: #174EA6;\n",
              "      --disabled-fill-color: #AAA;\n",
              "      --disabled-bg-color: #DDD;\n",
              "  }\n",
              "\n",
              "  [theme=dark] .colab-df-quickchart {\n",
              "      --bg-color: #3B4455;\n",
              "      --fill-color: #D2E3FC;\n",
              "      --hover-bg-color: #434B5C;\n",
              "      --hover-fill-color: #FFFFFF;\n",
              "      --disabled-bg-color: #3B4455;\n",
              "      --disabled-fill-color: #666;\n",
              "  }\n",
              "\n",
              "  .colab-df-quickchart {\n",
              "    background-color: var(--bg-color);\n",
              "    border: none;\n",
              "    border-radius: 50%;\n",
              "    cursor: pointer;\n",
              "    display: none;\n",
              "    fill: var(--fill-color);\n",
              "    height: 32px;\n",
              "    padding: 0;\n",
              "    width: 32px;\n",
              "  }\n",
              "\n",
              "  .colab-df-quickchart:hover {\n",
              "    background-color: var(--hover-bg-color);\n",
              "    box-shadow: 0 1px 2px rgba(60, 64, 67, 0.3), 0 1px 3px 1px rgba(60, 64, 67, 0.15);\n",
              "    fill: var(--button-hover-fill-color);\n",
              "  }\n",
              "\n",
              "  .colab-df-quickchart-complete:disabled,\n",
              "  .colab-df-quickchart-complete:disabled:hover {\n",
              "    background-color: var(--disabled-bg-color);\n",
              "    fill: var(--disabled-fill-color);\n",
              "    box-shadow: none;\n",
              "  }\n",
              "\n",
              "  .colab-df-spinner {\n",
              "    border: 2px solid var(--fill-color);\n",
              "    border-color: transparent;\n",
              "    border-bottom-color: var(--fill-color);\n",
              "    animation:\n",
              "      spin 1s steps(1) infinite;\n",
              "  }\n",
              "\n",
              "  @keyframes spin {\n",
              "    0% {\n",
              "      border-color: transparent;\n",
              "      border-bottom-color: var(--fill-color);\n",
              "      border-left-color: var(--fill-color);\n",
              "    }\n",
              "    20% {\n",
              "      border-color: transparent;\n",
              "      border-left-color: var(--fill-color);\n",
              "      border-top-color: var(--fill-color);\n",
              "    }\n",
              "    30% {\n",
              "      border-color: transparent;\n",
              "      border-left-color: var(--fill-color);\n",
              "      border-top-color: var(--fill-color);\n",
              "      border-right-color: var(--fill-color);\n",
              "    }\n",
              "    40% {\n",
              "      border-color: transparent;\n",
              "      border-right-color: var(--fill-color);\n",
              "      border-top-color: var(--fill-color);\n",
              "    }\n",
              "    60% {\n",
              "      border-color: transparent;\n",
              "      border-right-color: var(--fill-color);\n",
              "    }\n",
              "    80% {\n",
              "      border-color: transparent;\n",
              "      border-right-color: var(--fill-color);\n",
              "      border-bottom-color: var(--fill-color);\n",
              "    }\n",
              "    90% {\n",
              "      border-color: transparent;\n",
              "      border-bottom-color: var(--fill-color);\n",
              "    }\n",
              "  }\n",
              "</style>\n",
              "\n",
              "  <script>\n",
              "    async function quickchart(key) {\n",
              "      const quickchartButtonEl =\n",
              "        document.querySelector('#' + key + ' button');\n",
              "      quickchartButtonEl.disabled = true;  // To prevent multiple clicks.\n",
              "      quickchartButtonEl.classList.add('colab-df-spinner');\n",
              "      try {\n",
              "        const charts = await google.colab.kernel.invokeFunction(\n",
              "            'suggestCharts', [key], {});\n",
              "      } catch (error) {\n",
              "        console.error('Error during call to suggestCharts:', error);\n",
              "      }\n",
              "      quickchartButtonEl.classList.remove('colab-df-spinner');\n",
              "      quickchartButtonEl.classList.add('colab-df-quickchart-complete');\n",
              "    }\n",
              "    (() => {\n",
              "      let quickchartButtonEl =\n",
              "        document.querySelector('#df-f1caa81b-f29c-4835-b17e-bbaa162c4aa6 button');\n",
              "      quickchartButtonEl.style.display =\n",
              "        google.colab.kernel.accessAllowed ? 'block' : 'none';\n",
              "    })();\n",
              "  </script>\n",
              "</div>\n",
              "    </div>\n",
              "  </div>\n"
            ]
          },
          "metadata": {},
          "execution_count": 29
        }
      ]
    },
    {
      "cell_type": "code",
      "source": [
        "df.columns\n"
      ],
      "metadata": {
        "id": "0dqlejSs-Wa6",
        "colab": {
          "base_uri": "https://localhost:8080/"
        },
        "outputId": "2d549dd9-986f-4475-b626-994d53be37f4"
      },
      "execution_count": null,
      "outputs": [
        {
          "output_type": "execute_result",
          "data": {
            "text/plain": [
              "Index(['Unnamed: 0', '0', '1', '2', '3', '4', '5', '6', '7', '8',\n",
              "       ...\n",
              "       '57592', '57593', '57594', '57595', '57596', '57597', '57598', '57599',\n",
              "       'label_Gryf', 'label_Slyn'],\n",
              "      dtype='object', length=57603)"
            ]
          },
          "metadata": {},
          "execution_count": 30
        }
      ]
    },
    {
      "cell_type": "code",
      "source": [
        "X = df.drop(['label_Gryf','label_Slyn','Unnamed: 0'],axis=1)\n",
        "# Putting response variable to y\n",
        "y = df[['label_Gryf','label_Slyn']]"
      ],
      "metadata": {
        "id": "cBd1ZEU28_hK"
      },
      "execution_count": null,
      "outputs": []
    },
    {
      "cell_type": "code",
      "source": [
        "X"
      ],
      "metadata": {
        "id": "R4rzVzbE_NFR"
      },
      "execution_count": null,
      "outputs": []
    },
    {
      "cell_type": "code",
      "source": [
        "y"
      ],
      "metadata": {
        "id": "BqTyVty5_R3U"
      },
      "execution_count": null,
      "outputs": []
    },
    {
      "cell_type": "code",
      "source": [
        "from sklearn.model_selection import train_test_split\n",
        "\n",
        "# Splitting the data into train and test\n",
        "X_train, X_test, y_train, y_test = train_test_split(X, y, train_size=0.7, random_state=42)\n"
      ],
      "metadata": {
        "id": "e-QPSiCSF09q"
      },
      "execution_count": null,
      "outputs": []
    },
    {
      "cell_type": "code",
      "source": [
        "from sklearn.ensemble import RandomForestClassifier\n",
        "\n",
        "classifier_rf = RandomForestClassifier(random_state=42, n_jobs=-1, max_depth=5,\n",
        "                                       n_estimators=100, oob_score=True)\n",
        "\n",
        "classifier_rf.fit(X_train, y_train)"
      ],
      "metadata": {
        "id": "LgpIWhl3F72F",
        "colab": {
          "base_uri": "https://localhost:8080/",
          "height": 74
        },
        "outputId": "ea46e4f3-7276-42ac-d9c7-d1b74fe8d377"
      },
      "execution_count": null,
      "outputs": [
        {
          "output_type": "execute_result",
          "data": {
            "text/plain": [
              "RandomForestClassifier(max_depth=5, n_jobs=-1, oob_score=True, random_state=42)"
            ],
            "text/html": [
              "<style>#sk-container-id-1 {color: black;background-color: white;}#sk-container-id-1 pre{padding: 0;}#sk-container-id-1 div.sk-toggleable {background-color: white;}#sk-container-id-1 label.sk-toggleable__label {cursor: pointer;display: block;width: 100%;margin-bottom: 0;padding: 0.3em;box-sizing: border-box;text-align: center;}#sk-container-id-1 label.sk-toggleable__label-arrow:before {content: \"▸\";float: left;margin-right: 0.25em;color: #696969;}#sk-container-id-1 label.sk-toggleable__label-arrow:hover:before {color: black;}#sk-container-id-1 div.sk-estimator:hover label.sk-toggleable__label-arrow:before {color: black;}#sk-container-id-1 div.sk-toggleable__content {max-height: 0;max-width: 0;overflow: hidden;text-align: left;background-color: #f0f8ff;}#sk-container-id-1 div.sk-toggleable__content pre {margin: 0.2em;color: black;border-radius: 0.25em;background-color: #f0f8ff;}#sk-container-id-1 input.sk-toggleable__control:checked~div.sk-toggleable__content {max-height: 200px;max-width: 100%;overflow: auto;}#sk-container-id-1 input.sk-toggleable__control:checked~label.sk-toggleable__label-arrow:before {content: \"▾\";}#sk-container-id-1 div.sk-estimator input.sk-toggleable__control:checked~label.sk-toggleable__label {background-color: #d4ebff;}#sk-container-id-1 div.sk-label input.sk-toggleable__control:checked~label.sk-toggleable__label {background-color: #d4ebff;}#sk-container-id-1 input.sk-hidden--visually {border: 0;clip: rect(1px 1px 1px 1px);clip: rect(1px, 1px, 1px, 1px);height: 1px;margin: -1px;overflow: hidden;padding: 0;position: absolute;width: 1px;}#sk-container-id-1 div.sk-estimator {font-family: monospace;background-color: #f0f8ff;border: 1px dotted black;border-radius: 0.25em;box-sizing: border-box;margin-bottom: 0.5em;}#sk-container-id-1 div.sk-estimator:hover {background-color: #d4ebff;}#sk-container-id-1 div.sk-parallel-item::after {content: \"\";width: 100%;border-bottom: 1px solid gray;flex-grow: 1;}#sk-container-id-1 div.sk-label:hover label.sk-toggleable__label {background-color: #d4ebff;}#sk-container-id-1 div.sk-serial::before {content: \"\";position: absolute;border-left: 1px solid gray;box-sizing: border-box;top: 0;bottom: 0;left: 50%;z-index: 0;}#sk-container-id-1 div.sk-serial {display: flex;flex-direction: column;align-items: center;background-color: white;padding-right: 0.2em;padding-left: 0.2em;position: relative;}#sk-container-id-1 div.sk-item {position: relative;z-index: 1;}#sk-container-id-1 div.sk-parallel {display: flex;align-items: stretch;justify-content: center;background-color: white;position: relative;}#sk-container-id-1 div.sk-item::before, #sk-container-id-1 div.sk-parallel-item::before {content: \"\";position: absolute;border-left: 1px solid gray;box-sizing: border-box;top: 0;bottom: 0;left: 50%;z-index: -1;}#sk-container-id-1 div.sk-parallel-item {display: flex;flex-direction: column;z-index: 1;position: relative;background-color: white;}#sk-container-id-1 div.sk-parallel-item:first-child::after {align-self: flex-end;width: 50%;}#sk-container-id-1 div.sk-parallel-item:last-child::after {align-self: flex-start;width: 50%;}#sk-container-id-1 div.sk-parallel-item:only-child::after {width: 0;}#sk-container-id-1 div.sk-dashed-wrapped {border: 1px dashed gray;margin: 0 0.4em 0.5em 0.4em;box-sizing: border-box;padding-bottom: 0.4em;background-color: white;}#sk-container-id-1 div.sk-label label {font-family: monospace;font-weight: bold;display: inline-block;line-height: 1.2em;}#sk-container-id-1 div.sk-label-container {text-align: center;}#sk-container-id-1 div.sk-container {/* jupyter's `normalize.less` sets `[hidden] { display: none; }` but bootstrap.min.css set `[hidden] { display: none !important; }` so we also need the `!important` here to be able to override the default hidden behavior on the sphinx rendered scikit-learn.org. See: https://github.com/scikit-learn/scikit-learn/issues/21755 */display: inline-block !important;position: relative;}#sk-container-id-1 div.sk-text-repr-fallback {display: none;}</style><div id=\"sk-container-id-1\" class=\"sk-top-container\"><div class=\"sk-text-repr-fallback\"><pre>RandomForestClassifier(max_depth=5, n_jobs=-1, oob_score=True, random_state=42)</pre><b>In a Jupyter environment, please rerun this cell to show the HTML representation or trust the notebook. <br />On GitHub, the HTML representation is unable to render, please try loading this page with nbviewer.org.</b></div><div class=\"sk-container\" hidden><div class=\"sk-item\"><div class=\"sk-estimator sk-toggleable\"><input class=\"sk-toggleable__control sk-hidden--visually\" id=\"sk-estimator-id-1\" type=\"checkbox\" checked><label for=\"sk-estimator-id-1\" class=\"sk-toggleable__label sk-toggleable__label-arrow\">RandomForestClassifier</label><div class=\"sk-toggleable__content\"><pre>RandomForestClassifier(max_depth=5, n_jobs=-1, oob_score=True, random_state=42)</pre></div></div></div></div></div>"
            ]
          },
          "metadata": {},
          "execution_count": 33
        }
      ]
    },
    {
      "cell_type": "code",
      "source": [
        "from sklearn.neighbors import KNeighborsClassifier\n",
        "neigh = KNeighborsClassifier(n_neighbors=1)\n",
        "neigh.fit(X_train, y_train)"
      ],
      "metadata": {
        "colab": {
          "base_uri": "https://localhost:8080/",
          "height": 74
        },
        "id": "JMZ9hlBeIUsm",
        "outputId": "6e27b4da-fe6d-47bc-c0b8-dfbae51de895"
      },
      "execution_count": null,
      "outputs": [
        {
          "output_type": "execute_result",
          "data": {
            "text/plain": [
              "KNeighborsClassifier(n_neighbors=1)"
            ],
            "text/html": [
              "<style>#sk-container-id-2 {color: black;background-color: white;}#sk-container-id-2 pre{padding: 0;}#sk-container-id-2 div.sk-toggleable {background-color: white;}#sk-container-id-2 label.sk-toggleable__label {cursor: pointer;display: block;width: 100%;margin-bottom: 0;padding: 0.3em;box-sizing: border-box;text-align: center;}#sk-container-id-2 label.sk-toggleable__label-arrow:before {content: \"▸\";float: left;margin-right: 0.25em;color: #696969;}#sk-container-id-2 label.sk-toggleable__label-arrow:hover:before {color: black;}#sk-container-id-2 div.sk-estimator:hover label.sk-toggleable__label-arrow:before {color: black;}#sk-container-id-2 div.sk-toggleable__content {max-height: 0;max-width: 0;overflow: hidden;text-align: left;background-color: #f0f8ff;}#sk-container-id-2 div.sk-toggleable__content pre {margin: 0.2em;color: black;border-radius: 0.25em;background-color: #f0f8ff;}#sk-container-id-2 input.sk-toggleable__control:checked~div.sk-toggleable__content {max-height: 200px;max-width: 100%;overflow: auto;}#sk-container-id-2 input.sk-toggleable__control:checked~label.sk-toggleable__label-arrow:before {content: \"▾\";}#sk-container-id-2 div.sk-estimator input.sk-toggleable__control:checked~label.sk-toggleable__label {background-color: #d4ebff;}#sk-container-id-2 div.sk-label input.sk-toggleable__control:checked~label.sk-toggleable__label {background-color: #d4ebff;}#sk-container-id-2 input.sk-hidden--visually {border: 0;clip: rect(1px 1px 1px 1px);clip: rect(1px, 1px, 1px, 1px);height: 1px;margin: -1px;overflow: hidden;padding: 0;position: absolute;width: 1px;}#sk-container-id-2 div.sk-estimator {font-family: monospace;background-color: #f0f8ff;border: 1px dotted black;border-radius: 0.25em;box-sizing: border-box;margin-bottom: 0.5em;}#sk-container-id-2 div.sk-estimator:hover {background-color: #d4ebff;}#sk-container-id-2 div.sk-parallel-item::after {content: \"\";width: 100%;border-bottom: 1px solid gray;flex-grow: 1;}#sk-container-id-2 div.sk-label:hover label.sk-toggleable__label {background-color: #d4ebff;}#sk-container-id-2 div.sk-serial::before {content: \"\";position: absolute;border-left: 1px solid gray;box-sizing: border-box;top: 0;bottom: 0;left: 50%;z-index: 0;}#sk-container-id-2 div.sk-serial {display: flex;flex-direction: column;align-items: center;background-color: white;padding-right: 0.2em;padding-left: 0.2em;position: relative;}#sk-container-id-2 div.sk-item {position: relative;z-index: 1;}#sk-container-id-2 div.sk-parallel {display: flex;align-items: stretch;justify-content: center;background-color: white;position: relative;}#sk-container-id-2 div.sk-item::before, #sk-container-id-2 div.sk-parallel-item::before {content: \"\";position: absolute;border-left: 1px solid gray;box-sizing: border-box;top: 0;bottom: 0;left: 50%;z-index: -1;}#sk-container-id-2 div.sk-parallel-item {display: flex;flex-direction: column;z-index: 1;position: relative;background-color: white;}#sk-container-id-2 div.sk-parallel-item:first-child::after {align-self: flex-end;width: 50%;}#sk-container-id-2 div.sk-parallel-item:last-child::after {align-self: flex-start;width: 50%;}#sk-container-id-2 div.sk-parallel-item:only-child::after {width: 0;}#sk-container-id-2 div.sk-dashed-wrapped {border: 1px dashed gray;margin: 0 0.4em 0.5em 0.4em;box-sizing: border-box;padding-bottom: 0.4em;background-color: white;}#sk-container-id-2 div.sk-label label {font-family: monospace;font-weight: bold;display: inline-block;line-height: 1.2em;}#sk-container-id-2 div.sk-label-container {text-align: center;}#sk-container-id-2 div.sk-container {/* jupyter's `normalize.less` sets `[hidden] { display: none; }` but bootstrap.min.css set `[hidden] { display: none !important; }` so we also need the `!important` here to be able to override the default hidden behavior on the sphinx rendered scikit-learn.org. See: https://github.com/scikit-learn/scikit-learn/issues/21755 */display: inline-block !important;position: relative;}#sk-container-id-2 div.sk-text-repr-fallback {display: none;}</style><div id=\"sk-container-id-2\" class=\"sk-top-container\"><div class=\"sk-text-repr-fallback\"><pre>KNeighborsClassifier(n_neighbors=1)</pre><b>In a Jupyter environment, please rerun this cell to show the HTML representation or trust the notebook. <br />On GitHub, the HTML representation is unable to render, please try loading this page with nbviewer.org.</b></div><div class=\"sk-container\" hidden><div class=\"sk-item\"><div class=\"sk-estimator sk-toggleable\"><input class=\"sk-toggleable__control sk-hidden--visually\" id=\"sk-estimator-id-2\" type=\"checkbox\" checked><label for=\"sk-estimator-id-2\" class=\"sk-toggleable__label sk-toggleable__label-arrow\">KNeighborsClassifier</label><div class=\"sk-toggleable__content\"><pre>KNeighborsClassifier(n_neighbors=1)</pre></div></div></div></div></div>"
            ]
          },
          "metadata": {},
          "execution_count": 34
        }
      ]
    },
    {
      "cell_type": "code",
      "source": [
        "neigh.score(X_test, y_test)"
      ],
      "metadata": {
        "colab": {
          "base_uri": "https://localhost:8080/"
        },
        "id": "tNXoU4uyIjoc",
        "outputId": "fd7f7255-b8bd-4802-8460-bf75200788a3"
      },
      "execution_count": null,
      "outputs": [
        {
          "output_type": "execute_result",
          "data": {
            "text/plain": [
              "1.0"
            ]
          },
          "metadata": {},
          "execution_count": 35
        }
      ]
    },
    {
      "cell_type": "code",
      "source": [
        "y_pred=neigh.predict(X_test)"
      ],
      "metadata": {
        "id": "wAGUi1Ps_ope"
      },
      "execution_count": null,
      "outputs": []
    },
    {
      "cell_type": "code",
      "source": [
        "import pickle\n",
        "pickle.dump(neigh,open('model.pkl','wb'))"
      ],
      "metadata": {
        "id": "s_qyLzCRL7r_"
      },
      "execution_count": null,
      "outputs": []
    },
    {
      "cell_type": "code",
      "source": [
        "X_test"
      ],
      "metadata": {
        "colab": {
          "base_uri": "https://localhost:8080/",
          "height": 193
        },
        "id": "xRfSVg9PBiyS",
        "outputId": "c123cfbe-1a42-480e-80bc-b657b686929b"
      },
      "execution_count": null,
      "outputs": [
        {
          "output_type": "execute_result",
          "data": {
            "text/plain": [
              "          0         1         2         3         4         5         6  \\\n",
              "8  0.148891  0.153336  0.158705  0.161146  0.157905  0.144101  0.125599   \n",
              "1  0.223007  0.223007  0.223007  0.223007  0.223007  0.223007  0.223007   \n",
              "5  0.093812  0.093812  0.093812  0.093812  0.093812  0.093812  0.093812   \n",
              "\n",
              "          7         8         9  ...     57590     57591     57592     57593  \\\n",
              "8  0.102700  0.078956  0.064240  ...  0.003922  0.003922  0.003922  0.003922   \n",
              "1  0.223007  0.223007  0.222304  ...  0.064559  0.083938  0.080392  0.061781   \n",
              "5  0.093812  0.093812  0.093812  ...  0.371313  0.381100  0.364212  0.342152   \n",
              "\n",
              "      57594     57595     57596     57597     57598     57599  \n",
              "8  0.004673  0.007745  0.007843  0.007843  0.007843  0.007843  \n",
              "1  0.060523  0.085882  0.090196  0.094029  0.091430  0.076920  \n",
              "5  0.319214  0.298893  0.286932  0.284455  0.287467  0.291735  \n",
              "\n",
              "[3 rows x 57600 columns]"
            ],
            "text/html": [
              "\n",
              "  <div id=\"df-f6a93517-eaef-4767-ba06-202d77748fd1\" class=\"colab-df-container\">\n",
              "    <div>\n",
              "<style scoped>\n",
              "    .dataframe tbody tr th:only-of-type {\n",
              "        vertical-align: middle;\n",
              "    }\n",
              "\n",
              "    .dataframe tbody tr th {\n",
              "        vertical-align: top;\n",
              "    }\n",
              "\n",
              "    .dataframe thead th {\n",
              "        text-align: right;\n",
              "    }\n",
              "</style>\n",
              "<table border=\"1\" class=\"dataframe\">\n",
              "  <thead>\n",
              "    <tr style=\"text-align: right;\">\n",
              "      <th></th>\n",
              "      <th>0</th>\n",
              "      <th>1</th>\n",
              "      <th>2</th>\n",
              "      <th>3</th>\n",
              "      <th>4</th>\n",
              "      <th>5</th>\n",
              "      <th>6</th>\n",
              "      <th>7</th>\n",
              "      <th>8</th>\n",
              "      <th>9</th>\n",
              "      <th>...</th>\n",
              "      <th>57590</th>\n",
              "      <th>57591</th>\n",
              "      <th>57592</th>\n",
              "      <th>57593</th>\n",
              "      <th>57594</th>\n",
              "      <th>57595</th>\n",
              "      <th>57596</th>\n",
              "      <th>57597</th>\n",
              "      <th>57598</th>\n",
              "      <th>57599</th>\n",
              "    </tr>\n",
              "  </thead>\n",
              "  <tbody>\n",
              "    <tr>\n",
              "      <th>8</th>\n",
              "      <td>0.148891</td>\n",
              "      <td>0.153336</td>\n",
              "      <td>0.158705</td>\n",
              "      <td>0.161146</td>\n",
              "      <td>0.157905</td>\n",
              "      <td>0.144101</td>\n",
              "      <td>0.125599</td>\n",
              "      <td>0.102700</td>\n",
              "      <td>0.078956</td>\n",
              "      <td>0.064240</td>\n",
              "      <td>...</td>\n",
              "      <td>0.003922</td>\n",
              "      <td>0.003922</td>\n",
              "      <td>0.003922</td>\n",
              "      <td>0.003922</td>\n",
              "      <td>0.004673</td>\n",
              "      <td>0.007745</td>\n",
              "      <td>0.007843</td>\n",
              "      <td>0.007843</td>\n",
              "      <td>0.007843</td>\n",
              "      <td>0.007843</td>\n",
              "    </tr>\n",
              "    <tr>\n",
              "      <th>1</th>\n",
              "      <td>0.223007</td>\n",
              "      <td>0.223007</td>\n",
              "      <td>0.223007</td>\n",
              "      <td>0.223007</td>\n",
              "      <td>0.223007</td>\n",
              "      <td>0.223007</td>\n",
              "      <td>0.223007</td>\n",
              "      <td>0.223007</td>\n",
              "      <td>0.223007</td>\n",
              "      <td>0.222304</td>\n",
              "      <td>...</td>\n",
              "      <td>0.064559</td>\n",
              "      <td>0.083938</td>\n",
              "      <td>0.080392</td>\n",
              "      <td>0.061781</td>\n",
              "      <td>0.060523</td>\n",
              "      <td>0.085882</td>\n",
              "      <td>0.090196</td>\n",
              "      <td>0.094029</td>\n",
              "      <td>0.091430</td>\n",
              "      <td>0.076920</td>\n",
              "    </tr>\n",
              "    <tr>\n",
              "      <th>5</th>\n",
              "      <td>0.093812</td>\n",
              "      <td>0.093812</td>\n",
              "      <td>0.093812</td>\n",
              "      <td>0.093812</td>\n",
              "      <td>0.093812</td>\n",
              "      <td>0.093812</td>\n",
              "      <td>0.093812</td>\n",
              "      <td>0.093812</td>\n",
              "      <td>0.093812</td>\n",
              "      <td>0.093812</td>\n",
              "      <td>...</td>\n",
              "      <td>0.371313</td>\n",
              "      <td>0.381100</td>\n",
              "      <td>0.364212</td>\n",
              "      <td>0.342152</td>\n",
              "      <td>0.319214</td>\n",
              "      <td>0.298893</td>\n",
              "      <td>0.286932</td>\n",
              "      <td>0.284455</td>\n",
              "      <td>0.287467</td>\n",
              "      <td>0.291735</td>\n",
              "    </tr>\n",
              "  </tbody>\n",
              "</table>\n",
              "<p>3 rows × 57600 columns</p>\n",
              "</div>\n",
              "    <div class=\"colab-df-buttons\">\n",
              "\n",
              "  <div class=\"colab-df-container\">\n",
              "    <button class=\"colab-df-convert\" onclick=\"convertToInteractive('df-f6a93517-eaef-4767-ba06-202d77748fd1')\"\n",
              "            title=\"Convert this dataframe to an interactive table.\"\n",
              "            style=\"display:none;\">\n",
              "\n",
              "  <svg xmlns=\"http://www.w3.org/2000/svg\" height=\"24px\" viewBox=\"0 -960 960 960\">\n",
              "    <path d=\"M120-120v-720h720v720H120Zm60-500h600v-160H180v160Zm220 220h160v-160H400v160Zm0 220h160v-160H400v160ZM180-400h160v-160H180v160Zm440 0h160v-160H620v160ZM180-180h160v-160H180v160Zm440 0h160v-160H620v160Z\"/>\n",
              "  </svg>\n",
              "    </button>\n",
              "\n",
              "  <style>\n",
              "    .colab-df-container {\n",
              "      display:flex;\n",
              "      gap: 12px;\n",
              "    }\n",
              "\n",
              "    .colab-df-convert {\n",
              "      background-color: #E8F0FE;\n",
              "      border: none;\n",
              "      border-radius: 50%;\n",
              "      cursor: pointer;\n",
              "      display: none;\n",
              "      fill: #1967D2;\n",
              "      height: 32px;\n",
              "      padding: 0 0 0 0;\n",
              "      width: 32px;\n",
              "    }\n",
              "\n",
              "    .colab-df-convert:hover {\n",
              "      background-color: #E2EBFA;\n",
              "      box-shadow: 0px 1px 2px rgba(60, 64, 67, 0.3), 0px 1px 3px 1px rgba(60, 64, 67, 0.15);\n",
              "      fill: #174EA6;\n",
              "    }\n",
              "\n",
              "    .colab-df-buttons div {\n",
              "      margin-bottom: 4px;\n",
              "    }\n",
              "\n",
              "    [theme=dark] .colab-df-convert {\n",
              "      background-color: #3B4455;\n",
              "      fill: #D2E3FC;\n",
              "    }\n",
              "\n",
              "    [theme=dark] .colab-df-convert:hover {\n",
              "      background-color: #434B5C;\n",
              "      box-shadow: 0px 1px 3px 1px rgba(0, 0, 0, 0.15);\n",
              "      filter: drop-shadow(0px 1px 2px rgba(0, 0, 0, 0.3));\n",
              "      fill: #FFFFFF;\n",
              "    }\n",
              "  </style>\n",
              "\n",
              "    <script>\n",
              "      const buttonEl =\n",
              "        document.querySelector('#df-f6a93517-eaef-4767-ba06-202d77748fd1 button.colab-df-convert');\n",
              "      buttonEl.style.display =\n",
              "        google.colab.kernel.accessAllowed ? 'block' : 'none';\n",
              "\n",
              "      async function convertToInteractive(key) {\n",
              "        const element = document.querySelector('#df-f6a93517-eaef-4767-ba06-202d77748fd1');\n",
              "        const dataTable =\n",
              "          await google.colab.kernel.invokeFunction('convertToInteractive',\n",
              "                                                    [key], {});\n",
              "        if (!dataTable) return;\n",
              "\n",
              "        const docLinkHtml = 'Like what you see? Visit the ' +\n",
              "          '<a target=\"_blank\" href=https://colab.research.google.com/notebooks/data_table.ipynb>data table notebook</a>'\n",
              "          + ' to learn more about interactive tables.';\n",
              "        element.innerHTML = '';\n",
              "        dataTable['output_type'] = 'display_data';\n",
              "        await google.colab.output.renderOutput(dataTable, element);\n",
              "        const docLink = document.createElement('div');\n",
              "        docLink.innerHTML = docLinkHtml;\n",
              "        element.appendChild(docLink);\n",
              "      }\n",
              "    </script>\n",
              "  </div>\n",
              "\n",
              "\n",
              "<div id=\"df-97f336a9-3054-4ad5-85b5-2f97403eef2b\">\n",
              "  <button class=\"colab-df-quickchart\" onclick=\"quickchart('df-97f336a9-3054-4ad5-85b5-2f97403eef2b')\"\n",
              "            title=\"Suggest charts.\"\n",
              "            style=\"display:none;\">\n",
              "\n",
              "<svg xmlns=\"http://www.w3.org/2000/svg\" height=\"24px\"viewBox=\"0 0 24 24\"\n",
              "     width=\"24px\">\n",
              "    <g>\n",
              "        <path d=\"M19 3H5c-1.1 0-2 .9-2 2v14c0 1.1.9 2 2 2h14c1.1 0 2-.9 2-2V5c0-1.1-.9-2-2-2zM9 17H7v-7h2v7zm4 0h-2V7h2v10zm4 0h-2v-4h2v4z\"/>\n",
              "    </g>\n",
              "</svg>\n",
              "  </button>\n",
              "\n",
              "<style>\n",
              "  .colab-df-quickchart {\n",
              "      --bg-color: #E8F0FE;\n",
              "      --fill-color: #1967D2;\n",
              "      --hover-bg-color: #E2EBFA;\n",
              "      --hover-fill-color: #174EA6;\n",
              "      --disabled-fill-color: #AAA;\n",
              "      --disabled-bg-color: #DDD;\n",
              "  }\n",
              "\n",
              "  [theme=dark] .colab-df-quickchart {\n",
              "      --bg-color: #3B4455;\n",
              "      --fill-color: #D2E3FC;\n",
              "      --hover-bg-color: #434B5C;\n",
              "      --hover-fill-color: #FFFFFF;\n",
              "      --disabled-bg-color: #3B4455;\n",
              "      --disabled-fill-color: #666;\n",
              "  }\n",
              "\n",
              "  .colab-df-quickchart {\n",
              "    background-color: var(--bg-color);\n",
              "    border: none;\n",
              "    border-radius: 50%;\n",
              "    cursor: pointer;\n",
              "    display: none;\n",
              "    fill: var(--fill-color);\n",
              "    height: 32px;\n",
              "    padding: 0;\n",
              "    width: 32px;\n",
              "  }\n",
              "\n",
              "  .colab-df-quickchart:hover {\n",
              "    background-color: var(--hover-bg-color);\n",
              "    box-shadow: 0 1px 2px rgba(60, 64, 67, 0.3), 0 1px 3px 1px rgba(60, 64, 67, 0.15);\n",
              "    fill: var(--button-hover-fill-color);\n",
              "  }\n",
              "\n",
              "  .colab-df-quickchart-complete:disabled,\n",
              "  .colab-df-quickchart-complete:disabled:hover {\n",
              "    background-color: var(--disabled-bg-color);\n",
              "    fill: var(--disabled-fill-color);\n",
              "    box-shadow: none;\n",
              "  }\n",
              "\n",
              "  .colab-df-spinner {\n",
              "    border: 2px solid var(--fill-color);\n",
              "    border-color: transparent;\n",
              "    border-bottom-color: var(--fill-color);\n",
              "    animation:\n",
              "      spin 1s steps(1) infinite;\n",
              "  }\n",
              "\n",
              "  @keyframes spin {\n",
              "    0% {\n",
              "      border-color: transparent;\n",
              "      border-bottom-color: var(--fill-color);\n",
              "      border-left-color: var(--fill-color);\n",
              "    }\n",
              "    20% {\n",
              "      border-color: transparent;\n",
              "      border-left-color: var(--fill-color);\n",
              "      border-top-color: var(--fill-color);\n",
              "    }\n",
              "    30% {\n",
              "      border-color: transparent;\n",
              "      border-left-color: var(--fill-color);\n",
              "      border-top-color: var(--fill-color);\n",
              "      border-right-color: var(--fill-color);\n",
              "    }\n",
              "    40% {\n",
              "      border-color: transparent;\n",
              "      border-right-color: var(--fill-color);\n",
              "      border-top-color: var(--fill-color);\n",
              "    }\n",
              "    60% {\n",
              "      border-color: transparent;\n",
              "      border-right-color: var(--fill-color);\n",
              "    }\n",
              "    80% {\n",
              "      border-color: transparent;\n",
              "      border-right-color: var(--fill-color);\n",
              "      border-bottom-color: var(--fill-color);\n",
              "    }\n",
              "    90% {\n",
              "      border-color: transparent;\n",
              "      border-bottom-color: var(--fill-color);\n",
              "    }\n",
              "  }\n",
              "</style>\n",
              "\n",
              "  <script>\n",
              "    async function quickchart(key) {\n",
              "      const quickchartButtonEl =\n",
              "        document.querySelector('#' + key + ' button');\n",
              "      quickchartButtonEl.disabled = true;  // To prevent multiple clicks.\n",
              "      quickchartButtonEl.classList.add('colab-df-spinner');\n",
              "      try {\n",
              "        const charts = await google.colab.kernel.invokeFunction(\n",
              "            'suggestCharts', [key], {});\n",
              "      } catch (error) {\n",
              "        console.error('Error during call to suggestCharts:', error);\n",
              "      }\n",
              "      quickchartButtonEl.classList.remove('colab-df-spinner');\n",
              "      quickchartButtonEl.classList.add('colab-df-quickchart-complete');\n",
              "    }\n",
              "    (() => {\n",
              "      let quickchartButtonEl =\n",
              "        document.querySelector('#df-97f336a9-3054-4ad5-85b5-2f97403eef2b button');\n",
              "      quickchartButtonEl.style.display =\n",
              "        google.colab.kernel.accessAllowed ? 'block' : 'none';\n",
              "    })();\n",
              "  </script>\n",
              "</div>\n",
              "    </div>\n",
              "  </div>\n"
            ]
          },
          "metadata": {},
          "execution_count": 38
        }
      ]
    },
    {
      "cell_type": "code",
      "source": [
        "y_pred"
      ],
      "metadata": {
        "colab": {
          "base_uri": "https://localhost:8080/"
        },
        "id": "HZdeG9oVBvtz",
        "outputId": "6fe2f9c9-3f00-4b67-bbe1-b33bfa5b6c2d"
      },
      "execution_count": null,
      "outputs": [
        {
          "output_type": "execute_result",
          "data": {
            "text/plain": [
              "array([[0, 1],\n",
              "       [1, 0],\n",
              "       [0, 1]])"
            ]
          },
          "metadata": {},
          "execution_count": 112
        }
      ]
    },
    {
      "cell_type": "code",
      "source": [
        "import cv2"
      ],
      "metadata": {
        "id": "oXeMFY609bpy"
      },
      "execution_count": null,
      "outputs": []
    },
    {
      "cell_type": "code",
      "source": [
        "n = \"/content/HarryPotter_WB_F4_HarryPotterMidshot_Promo_080615_Port.jpg\"\n",
        "image = cv2.imread(n)\n",
        "gray_image = rgb2gray(image)\n",
        "resized = resize(gray_image,(240,240))\n",
        "flattened = np.ndarray.flatten(resized).reshape(57600,1)\n",
        "sem_fin=np.dstack(flattened)\n",
        "fin_img = sem_fin.reshape(1,57600)\n",
        "img_data=pd.DataFrame(fin_img)"
      ],
      "metadata": {
        "id": "bOiX_3kAB7vb"
      },
      "execution_count": null,
      "outputs": []
    },
    {
      "cell_type": "code",
      "source": [
        "import pickle\n",
        "model = pickle.load(open(\"/content/model.pkl\",'rb'))\n",
        "n = \"/content/HarryPotter_WB_F4_HarryPotterMidshot_Promo_080615_Port.jpg\"\n",
        "image = cv2.imread(n)\n",
        "gray_image = cv2.cvtColor(image, cv2.COLOR_BGR2GRAY)\n",
        "resized = cv2.resize(image, (240,240),\n",
        "               interpolation = cv2.INTER_LINEAR)\n",
        "flattened = np.ndarray.flatten(resized).reshape(57600,1)\n",
        "sem_fin=np.dstack(flattened)\n",
        "fin_img = sem_fin.reshape(1,57600)\n",
        "img_data=pd.DataFrame(fin_img)\n",
        "output = model.predict(img_data)\n",
        "imshow(n)\n",
        "if output[0][0] == 1:\n",
        "  print(\"gryf\")\n",
        "else:\n",
        "  print(\"slyt\")"
      ],
      "metadata": {
        "colab": {
          "base_uri": "https://localhost:8080/",
          "height": 503
        },
        "id": "h_YadtVB-jl1",
        "outputId": "8575b153-aa0d-42c5-f489-cefbbba78046"
      },
      "execution_count": null,
      "outputs": [
        {
          "output_type": "stream",
          "name": "stdout",
          "text": [
            "gryf\n"
          ]
        },
        {
          "output_type": "display_data",
          "data": {
            "text/plain": [
              "<Figure size 640x480 with 1 Axes>"
            ],
            "image/png": "[encoded data removed]"
          },
          "metadata": {}
        }
      ]
    },
    {
      "cell_type": "code",
      "source": [
        "image"
      ],
      "metadata": {
        "id": "nIwnfvTq9rra"
      },
      "execution_count": null,
      "outputs": []
    },
    {
      "cell_type": "code",
      "source": [
        "output = neigh.predict(img_data)"
      ],
      "metadata": {
        "id": "zoyZxjtqEQBo"
      },
      "execution_count": null,
      "outputs": []
    },
    {
      "cell_type": "code",
      "source": [
        "output"
      ],
      "metadata": {
        "colab": {
          "base_uri": "https://localhost:8080/"
        },
        "id": "QITU2X3eEhNb",
        "outputId": "5cb77270-cb41-4325-aac8-0401aa9b1541"
      },
      "execution_count": null,
      "outputs": [
        {
          "output_type": "execute_result",
          "data": {
            "text/plain": [
              "array([[1, 0]])"
            ]
          },
          "metadata": {},
          "execution_count": 48
        }
      ]
    },
    {
      "cell_type": "code",
      "source": [
        "classifier_rf.oob_score_"
      ],
      "metadata": {
        "id": "a2rTaBNkGNjq",
        "colab": {
          "base_uri": "https://localhost:8080/"
        },
        "outputId": "03a4a3bd-3cf0-4b35-8c08-e930f3e97948"
      },
      "execution_count": null,
      "outputs": [
        {
          "output_type": "execute_result",
          "data": {
            "text/plain": [
              "0.5714285714285714"
            ]
          },
          "metadata": {},
          "execution_count": 87
        }
      ]
    },
    {
      "cell_type": "code",
      "source": [
        "from sklearn.metrics import accuracy_score\n",
        "accuracy_score(y_test, y_pred)"
      ],
      "metadata": {
        "colab": {
          "base_uri": "https://localhost:8080/"
        },
        "id": "qVSee29c_Vzh",
        "outputId": "690fe3f8-f4c8-4ca3-ac1e-79bb073344aa"
      },
      "execution_count": null,
      "outputs": [
        {
          "output_type": "execute_result",
          "data": {
            "text/plain": [
              "0.6666666666666666"
            ]
          },
          "metadata": {},
          "execution_count": 85
        }
      ]
    },
    {
      "cell_type": "code",
      "source": [
        "output[0]"
      ],
      "metadata": {
        "colab": {
          "base_uri": "https://localhost:8080/"
        },
        "id": "R2Vl7AHjF1XR",
        "outputId": "6ae0538c-d977-4574-f507-2a8f989c0196"
      },
      "execution_count": null,
      "outputs": [
        {
          "output_type": "execute_result",
          "data": {
            "text/plain": [
              "array([1, 0])"
            ]
          },
          "metadata": {},
          "execution_count": 53
        }
      ]
    },
    {
      "cell_type": "code",
      "source": [
        "imshow(n)\n",
        "if output[0][0] == 1:\n",
        "  print(\"gryf\")\n",
        "else:\n",
        "  print(\"slyt\")"
      ],
      "metadata": {
        "colab": {
          "base_uri": "https://localhost:8080/",
          "height": 503
        },
        "id": "mvfqV8co_1NZ",
        "outputId": "9315a093-59d5-4132-8d95-c39e0c248a38"
      },
      "execution_count": null,
      "outputs": [
        {
          "output_type": "stream",
          "name": "stdout",
          "text": [
            "gryf\n"
          ]
        },
        {
          "output_type": "display_data",
          "data": {
            "text/plain": [
              "<Figure size 640x480 with 1 Axes>"
            ],
            "image/png": "[encoded data removed]"
          },
          "metadata": {}
        }
      ]
    }
  ]
}